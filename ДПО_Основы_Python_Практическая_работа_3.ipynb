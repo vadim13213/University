{
  "nbformat": 4,
  "nbformat_minor": 0,
  "metadata": {
    "colab": {
      "provenance": [],
      "include_colab_link": true
    },
    "kernelspec": {
      "name": "python3",
      "display_name": "Python 3"
    },
    "language_info": {
      "name": "python"
    }
  },
  "cells": [
    {
      "cell_type": "markdown",
      "metadata": {
        "id": "view-in-github",
        "colab_type": "text"
      },
      "source": [
        "<a href=\"https://colab.research.google.com/github/vadim13213/University/blob/main/%D0%94%D0%9F%D0%9E_%D0%9E%D1%81%D0%BD%D0%BE%D0%B2%D1%8B_Python_%D0%9F%D1%80%D0%B0%D0%BA%D1%82%D0%B8%D1%87%D0%B5%D1%81%D0%BA%D0%B0%D1%8F_%D1%80%D0%B0%D0%B1%D0%BE%D1%82%D0%B0_3.ipynb\" target=\"_parent\"><img src=\"https://colab.research.google.com/assets/colab-badge.svg\" alt=\"Open In Colab\"/></a>"
      ]
    },
    {
      "cell_type": "markdown",
      "source": [
        "# **Практическая работа №3. Введение в Python. Модули и пакеты**\n",
        "\n",
        "---\n",
        "\n",
        "\n"
      ],
      "metadata": {
        "id": "QliphIp1pbse"
      }
    },
    {
      "cell_type": "markdown",
      "source": [
        "**Обучающийся:** *[Захаренко Вадим Олегович]*  "
      ],
      "metadata": {
        "id": "tTK8mNGDqA8Z"
      }
    },
    {
      "cell_type": "markdown",
      "source": [
        "\n",
        "\n",
        "---"
      ],
      "metadata": {
        "id": "wTJjWD61p_dZ"
      }
    },
    {
      "cell_type": "markdown",
      "source": [
        "## **Цель работы:**\n"
      ],
      "metadata": {
        "id": "8sycqVegUH85"
      }
    },
    {
      "cell_type": "markdown",
      "source": [
        "Создать Python-пакет, включающий функции для преобразования координат между декартовой и сферической системами, а также для работы с файлами. Реализовать консольный интерфейс для взаимодействия с функциями пакета."
      ],
      "metadata": {
        "id": "bdHCMBx4UJTb"
      }
    },
    {
      "cell_type": "markdown",
      "source": [
        "## **Задачи:**\n"
      ],
      "metadata": {
        "id": "aziouLamURhA"
      }
    },
    {
      "cell_type": "markdown",
      "source": [
        "1. Создать структуру пакета с необходимыми модулями.\n",
        "2. Реализовать функции для преобразования координат.\n",
        "3. Реализовать функции для работы с файлами.\n",
        "4. Создать файл `__main__.py` с консольным интерфейсом для работы с пакетом.\n",
        "5. Проверить работоспособность пакета на примере."
      ],
      "metadata": {
        "id": "ZyNB5M23US9G"
      }
    },
    {
      "cell_type": "markdown",
      "source": [
        "## **Теоретическая часть:**"
      ],
      "metadata": {
        "id": "AoEP4riFYmrE"
      }
    },
    {
      "cell_type": "markdown",
      "source": [
        "1. **Преобразование декартовых координат в сферические:**\n",
        "\n",
        "   *Формулы для преобразования:*\n",
        "\n",
        "   $\n",
        "   r = \\sqrt{x^2 + y^2 + z^2}\n",
        "   $\n",
        "\n",
        "   - Эта формула вычисляет радиус $r$ от начала координат до точки с координатами $(x, y, z)$ в декартовой системе. Это расстояние в пространстве.\n",
        "\n",
        "   $\n",
        "   \\theta = 2 \\cdot \\text{atan2}(y, x + \\sqrt{x^2 + y^2})\n",
        "   $\n",
        "\n",
        "   - Формула для $\\theta$ (азимутальный угол) использует функцию $\\text{atan2}$, которая возвращает угол в радианах между положительной осью $x$ и точкой $(x, y)$. Умножение на 2 и добавление $\\sqrt{x^2 + y^2}$ в знаменатель обеспечивает корректное определение угла в диапазоне от 0 до $2\\pi$.\n",
        "\n",
        "   $\n",
        "   \\phi = \\text{atan2}(\\sqrt{x^2 + y^2}, z)\n",
        "   $\n",
        "\n",
        "   - Формула для $\\phi$ (полярный угол) также использует $\\text{atan2}$, но здесь она вычисляет угол между положительной осью $z$ и вектором от начала координат до точки. Это значение также получается в радианах.\n",
        "\n",
        "   **Значения $\\theta$ и $\\phi$ получаются в радианах. Для перевода их в градусы необходимо умножить на $\\frac{180}{\\pi}$.**\n",
        "\n",
        "\n",
        "\n"
      ],
      "metadata": {
        "id": "pEAfpUD_UYNL"
      }
    },
    {
      "cell_type": "markdown",
      "source": [
        "2. **Преобразование сферических координат в декартовые:**\n",
        "\n",
        "  *Формулы для преобразования:*\n",
        "\n",
        "   $\n",
        "   x = r \\cdot \\sin(\\phi) \\cdot \\cos(\\theta)\n",
        "   $\n",
        "   \n",
        "   - Эта формула вычисляет координату $x$ в декартовой системе, используя радиус $r$, полярный угол $\\phi$ и азимутальный угол $\\theta$.\n",
        "\n",
        "   $\n",
        "   y = r \\cdot \\sin(\\phi) \\cdot \\sin(\\theta)\n",
        "   $\n",
        "\n",
        "   - Аналогично, эта формула вычисляет координату $y$ в декартовой системе.\n",
        "\n",
        "   $\n",
        "   z = r \\cdot \\cos(\\phi)\n",
        "   $\n",
        "   \n",
        "   - Эта формула вычисляет координату $z$ в декартовой системе, используя радиус $r$ и полярный угол $\\phi$.\n",
        "\n",
        "   **Значения $\\theta$ и $\\phi$ должны быть заданы в радианах. Если они заданы в градусах, их необходимо предварительно перевести в радианы, умножив на $\\frac{\\pi}{180}$.**"
      ],
      "metadata": {
        "id": "PNgijVwBZQxC"
      }
    },
    {
      "cell_type": "markdown",
      "source": [
        "3. **Преобразование между градусами и радианами:**\n",
        "\n",
        "   $\n",
        "   \\text{градусы} \\rightarrow \\text{радианы}: \\text{degrees} \\cdot \\frac{\\pi}{180}\n",
        "   $\n",
        "   - Эта формула используется для перевода углов из градусов в радианы.\n",
        "\n",
        "   $\n",
        "   \\text{радианы} \\rightarrow \\text{градусы}: \\text{radians} \\cdot \\frac{180}{\\pi}\n",
        "   $\n",
        "   - Эта формула используется для перевода углов из радиан в градусы."
      ],
      "metadata": {
        "id": "km-P3kvIZOo9"
      }
    },
    {
      "cell_type": "code",
      "source": [
        "import math\n",
        "\n",
        "# Пример расчета синуса и косинуса от угла в градусах\n",
        "angle_degrees = 45  # Угол в градусах\n",
        "\n",
        "# Преобразование градусов в радианы\n",
        "angle_radians = math.radians(angle_degrees)\n",
        "\n",
        "# Расчет синуса и косинуса\n",
        "sin_value = math.sin(angle_radians)\n",
        "cos_value = math.cos(angle_radians)\n",
        "\n",
        "print(f\"Синус {angle_degrees} градусов: {sin_value}\")\n",
        "print(f\"Косинус {angle_degrees} градусов: {cos_value}\")"
      ],
      "metadata": {
        "colab": {
          "base_uri": "https://localhost:8080/"
        },
        "id": "UbLbordBWolF",
        "outputId": "375e5e96-02fc-42e5-cd01-4534c65429b8"
      },
      "execution_count": null,
      "outputs": [
        {
          "output_type": "stream",
          "name": "stdout",
          "text": [
            "Синус 45 градусов: 0.7071067811865475\n",
            "Косинус 45 градусов: 0.7071067811865476\n"
          ]
        }
      ]
    },
    {
      "cell_type": "code",
      "source": [
        "# Пример расчета atan2 и преобразования результата в градусы\n",
        "y = 1\n",
        "x = 5\n",
        "\n",
        "# Расчет atan2 в радианах\n",
        "atan2_radians = math.atan2(y, x)\n",
        "\n",
        "# Преобразование результата atan2 в градусы\n",
        "atan2_degrees = math.degrees(atan2_radians)\n",
        "\n",
        "print(f\"atan2({y}, {x}) в радианах: {atan2_radians}\")\n",
        "print(f\"atan2({y}, {x}) в градусах: {atan2_degrees}\")"
      ],
      "metadata": {
        "colab": {
          "base_uri": "https://localhost:8080/"
        },
        "id": "r6gfmCU2XN-j",
        "outputId": "9561f326-c331-48f4-f89d-7a3316521615"
      },
      "execution_count": null,
      "outputs": [
        {
          "output_type": "stream",
          "name": "stdout",
          "text": [
            "atan2(1, 5) в радианах: 0.19739555984988075\n",
            "atan2(1, 5) в градусах: 11.309932474020213\n"
          ]
        }
      ]
    },
    {
      "cell_type": "markdown",
      "source": [
        "\n",
        "\n",
        "## **Практическая часть:**\n",
        "\n"
      ],
      "metadata": {
        "id": "xjcf5dryT4q6"
      }
    },
    {
      "cell_type": "markdown",
      "source": [
        "1. **Создание структуры пакета:**\n",
        "   Создайте директорию `geo_transform` и в ней следующие файлы:\n",
        "   - `__init__.py`\n",
        "   - `transformations.py`\n",
        "   - `utils.py`\n",
        "   - `file_operations.py`\n",
        "   - `__main__.py`\n",
        "\n",
        "2. **Реализация функций преобразования координат:**\n",
        "   В файле `transformations.py` реализуйте функции `cartesian_to_spherical` и `spherical_to_cartesian` с использованием приведенных выше формул.\n",
        "\n",
        "3. **Реализация вспомогательных функций:**\n",
        "   В файле `utils.py` реализуйте функции `deg_to_rad` и `rad_to_deg`.\n",
        "\n",
        "4. **Реализация функций для работы с файлами:**\n",
        "   В файле `file_operations.py` реализуйте функции `write_results_to_file` и `read_coordinates_from_file` для записи и чтения координат из текстовых файлов.\n",
        "\n",
        "5. **Создание `__init__.py`:**\n",
        "   В файле `__init__.py` добавьте импорты всех необходимых функций из других модулей.\n",
        "\n",
        "6. **Реализация консольного интерфейса в `__main__.py`:**\n",
        "   В файле `__main__.py` реализуйте консольный интерфейс для работы с функциями пакета.\n",
        "\n",
        "7. **Проверка работоспособности пакета:**\n",
        "   Запустите пакет как отдельную программу. Проверьте все функции через консольный интерфейс. Импортируйте пакет в стороннем модуле, убедитесь, что все функции работают корректно."
      ],
      "metadata": {
        "id": "3DlYz5qrVG-C"
      }
    },
    {
      "cell_type": "markdown",
      "source": [
        "\n",
        "\n",
        "## **Демонстрация результата:**\n",
        "\n"
      ],
      "metadata": {
        "id": "iIyfPBIGbPdQ"
      }
    },
    {
      "cell_type": "markdown",
      "source": [
        "Вставьте код каждого из ваших модулей в соответствующие ячейки ниже.\n",
        "\n",
        "**Строку, начинающуюся на %%writefile... стирать запрещено**"
      ],
      "metadata": {
        "id": "1ARiSwg3bKML"
      }
    },
    {
      "cell_type": "markdown",
      "source": [
        "### **Содержимое модуля \\_\\_init__.py:**"
      ],
      "metadata": {
        "id": "kcPKYl5abzNp"
      }
    },
    {
      "cell_type": "code",
      "source": [
        "!mkdir geo_transform"
      ],
      "metadata": {
        "id": "T5t41w-tbD5I"
      },
      "execution_count": null,
      "outputs": []
    },
    {
      "cell_type": "code",
      "source": [
        "%%writefile geo_transform/__init__.py\n",
        "\n",
        "from .utils import deg_to_rad, rad_to_deg\n",
        "from .transformations import cartesian_to_spherical, spherical_to_cartesian\n",
        "from .file_operations import write_results_to_file, read_coordinates_from_file\n",
        "\n",
        "__all__ = ['deg_to_rad', 'rad_to_deg', 'cartesian_to_spherical', 'spherical_to_cartesian', 'write_results_to_file', 'read_coordinates_from_file']"
      ],
      "metadata": {
        "id": "p_UraYekagmv"
      },
      "execution_count": null,
      "outputs": []
    },
    {
      "cell_type": "markdown",
      "source": [
        "### **Содержимое модуля transformations.py:**"
      ],
      "metadata": {
        "id": "GfgJWdI7cHoW"
      }
    },
    {
      "cell_type": "code",
      "source": [
        "%%writefile geo_transform/transformations.py\n",
        "\n",
        "from math import sqrt, atan2, pi, sin, cos\n",
        "\n",
        "\n",
        "def cartesian_to_spherical(x, y, z):\n",
        "    r = sqrt(x**2 + y**2 + z**2) #расстояние в пространстве\n",
        "\n",
        "    u = (2*atan2(y, x + sqrt(x**2 + y**2))) #азимутальный угол\n",
        "\n",
        "    f = (atan2(sqrt(x**2 + y**2), z)) #полярный угол\n",
        "\n",
        "    return u, f, r\n",
        "\n",
        "\n",
        "def spherical_to_cartesian(r, u, f):\n",
        "\n",
        "    x = r * sin(f) * cos(u)\n",
        "\n",
        "    y = r *sin(f) * sin(u)\n",
        "\n",
        "    z = r * cos(f)\n",
        "\n",
        "    return x, y, z"
      ],
      "metadata": {
        "id": "PEwM6HmucHoX"
      },
      "execution_count": null,
      "outputs": []
    },
    {
      "cell_type": "markdown",
      "source": [
        "### **Содержимое модуля utils.py:**"
      ],
      "metadata": {
        "id": "tw_9FXFkcIBq"
      }
    },
    {
      "cell_type": "code",
      "source": [
        "%%writefile geo_transform/utils.py\n",
        "\n",
        "from math import pi\n",
        "\n",
        "def deg_to_rad(u, f):\n",
        "    u = u * (pi/180)\n",
        "\n",
        "    f = f * (pi/180)\n",
        "    return u, f\n",
        "\n",
        "def rad_to_deg(u, f):\n",
        "    u = u * (180/pi)\n",
        "\n",
        "    f = f * (180/pi)\n",
        "    return u, f"
      ],
      "metadata": {
        "id": "y96uQcmTcIBr"
      },
      "execution_count": null,
      "outputs": []
    },
    {
      "cell_type": "markdown",
      "source": [
        "### **Содержимое модуля file_operations.py:**"
      ],
      "metadata": {
        "id": "kmYf0AOwcIOg"
      }
    },
    {
      "cell_type": "code",
      "source": [
        "%%writefile geo_transform/file_operations.py\n",
        "\n",
        "def write_results_to_file(result: str):\n",
        "    try:\n",
        "        with open('result.txt', 'a', encoding='UTF-8') as file:\n",
        "            file.write(result +'\\n')\n",
        "    except  IOError as e:\n",
        "        print(f\"Ошибка записи в файл: {e}\")\n",
        "\n",
        "def read_coordinates_from_file(path: str):\n",
        "    try:\n",
        "        with open(path.replace('\\\\', '/'), 'r', encoding='UTF-8') as file:\n",
        "            input_data = file.readlines()\n",
        "            input_data = [[float(num) for num in line.split()] for line in input_data]\n",
        "        return input_data\n",
        "    except (IOError, ValueError) as e:\n",
        "        print(f\"Ошибка чтения файла: {e}\")\n",
        "        return []"
      ],
      "metadata": {
        "id": "HkmXurkjcIOg"
      },
      "execution_count": null,
      "outputs": []
    },
    {
      "cell_type": "markdown",
      "source": [
        "### **Содержимое модуля \\_\\_main__.py:**"
      ],
      "metadata": {
        "id": "qUQb0g_RcaUd"
      }
    },
    {
      "cell_type": "code",
      "source": [
        "%%writefile geo_transform/__main__.py\n",
        "\n",
        "from geo_transform import *\n",
        "\n",
        "def menu():\n",
        "    while True:\n",
        "        print(\"Выберите функцию:\")\n",
        "        print(\"1. Преобразовать декартовые координаты в сферические\")\n",
        "        print(\"2. Преобразовать сферические координаты в декартовые\")\n",
        "        print(\"3. Перевести сферические координаты (градусы -> радианы) и преобразовать в декартовые координаты\")\n",
        "        print(\"4. Перевести сферические координаты: из градусов в радианы\")\n",
        "        print(\"5. Перевести сферические координаты: из радиан в градусы\")\n",
        "        print(\"6. Преобразовать декартовые координаты в сферические из файла\")\n",
        "        print(\"0. Выйти\")\n",
        "\n",
        "        try:\n",
        "            choice = int(input(\"Введите номер программы: \"))\n",
        "        except ValueError:\n",
        "            print(\"Пожалуйста, введите число.\")\n",
        "            continue\n",
        "\n",
        "        if choice == 0:\n",
        "            print(\"Выход из программы.\")\n",
        "            break\n",
        "\n",
        "        elif choice == 1:\n",
        "            try:\n",
        "                a = float(input(\"Введите координату X: \"))\n",
        "                b = float(input(\"Введите координату Y: \"))\n",
        "                c = float(input(\"Введите координату Z: \"))\n",
        "                result_rad = cartesian_to_spherical(a, b, c)\n",
        "                theta_rad, phi_rad, r_val = result_rad\n",
        "                theta_deg, phi_deg = rad_to_deg(theta_rad, phi_rad)\n",
        "                result = f'Сферические координаты в радианах (θ, ϕ, r): ({theta_rad:.4f}, {phi_rad:.4f}, {r_val:.4f})\\n'\n",
        "                result += f'Сферические координаты в градусах (θ, ϕ): ({theta_deg:.4f}, {phi_deg:.4f})'\n",
        "                print(result)\n",
        "                write_results_to_file(result)\n",
        "            except ValueError as e:\n",
        "                print(f\"Ошибка: {e}\")\n",
        "\n",
        "        elif choice == 2:\n",
        "            try:\n",
        "                a = float(input(\"Введите азимутальный угол θ (в радианах): \"))\n",
        "                b = float(input(\"Введите полярный угол ϕ (в радианах): \"))\n",
        "                c = float(input(\"Введите радиус r: \"))\n",
        "\n",
        "                result = f'Декартовые координаты(x, y, z): {spherical_to_cartesian(c, a, b)}'\n",
        "                print(result)\n",
        "                write_results_to_file(result)\n",
        "            except ValueError as e:\n",
        "                print(f\"Ошибка: {e}\")\n",
        "\n",
        "        elif choice == 3:\n",
        "            try:\n",
        "                a = float(input(\"Введите азимутальный угол θ (в градусах): \"))\n",
        "                b = float(input(\"Введите полярный угол ϕ (в градусах): \"))\n",
        "                c = float(input(\"Введите радиус r: \"))\n",
        "                a, b = deg_to_rad(a, b)\n",
        "                result = f'Декартовые координаты(x, y, z): {spherical_to_cartesian(c, a, b)}'\n",
        "                print(result)\n",
        "                write_results_to_file(result)\n",
        "            except ValueError as e:\n",
        "                print(f\"Ошибка: {e}\")\n",
        "\n",
        "        elif choice == 4:\n",
        "            try:\n",
        "                a = float(input(\"Введите азимутальный угол θ (в градусах): \"))\n",
        "                b = float(input(\"Введите полярный угол ϕ (в градусах): \"))\n",
        "\n",
        "                result = f'Сферические координаты азимутальный угол и полярный (в радиан): {deg_to_rad(a, b)}'\n",
        "                print(result)\n",
        "                write_results_to_file(result)\n",
        "            except ValueError as e:\n",
        "                print(f\"Ошибка: {e}\")\n",
        "\n",
        "        elif choice == 5:\n",
        "            try:\n",
        "                a = float(input(\"Введите азимутальный угол θ (в радиан): \"))\n",
        "                b = float(input(\"Введите полярный угол ϕ (в радиан): \"))\n",
        "\n",
        "                result = f'Сферические координаты азимутальный угол и полярный (в градусах): {rad_to_deg(a, b)}'\n",
        "                print(result)\n",
        "                write_results_to_file(result)\n",
        "            except ValueError as e:\n",
        "                print(f\"Ошибка: {e}\")\n",
        "\n",
        "        elif choice == 6:\n",
        "            try:\n",
        "                path = input(\"Введите путь к файлу: \")\n",
        "                input_list = read_coordinates_from_file(path)\n",
        "                if input_list:\n",
        "                    for coordinates in input_list:\n",
        "                        if len(coordinates) == 3:\n",
        "                            x,y,z = coordinates\n",
        "                            spherical_rad = cartesian_to_spherical(x, y, z)\n",
        "                            spherical_deg = rad_to_deg(spherical_rad[0], spherical_rad[1])\n",
        "                            result = f'Для координат ({x}, {y}, {z}):\\n'\n",
        "                            result += f'Сферические координаты в радианах (θ, ϕ, r): {spherical_rad}\\n'\n",
        "                            result += f'Сферические координаты в градусах (θ, ϕ): {spherical_deg}'\n",
        "                            print(result)\n",
        "                            write_results_to_file(result)\n",
        "                        else:\n",
        "                            print(\"Ошибка: а строке должно быть 3 числа\")\n",
        "            except ValueError as e:\n",
        "                print(f\"Ошибка: {e}\")\n",
        "\n",
        "menu()"
      ],
      "metadata": {
        "id": "qzNV09hfcaUe"
      },
      "execution_count": null,
      "outputs": []
    },
    {
      "cell_type": "markdown",
      "source": [
        "### **Содержимое модуля main.py (с импортом пакета и тестированием функций из него):**"
      ],
      "metadata": {
        "id": "vGqPXMcdcpxE"
      }
    },
    {
      "cell_type": "code",
      "source": [
        "from geo_transform import __main__\n",
        "\n",
        "if __name__ == \"__main__\":\n",
        "    __main__.menu()"
      ],
      "metadata": {
        "id": "4b1mRDL6cpxE"
      },
      "execution_count": null,
      "outputs": []
    }
  ]
}
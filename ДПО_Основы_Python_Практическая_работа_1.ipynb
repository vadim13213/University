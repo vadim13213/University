{
  "nbformat": 4,
  "nbformat_minor": 0,
  "metadata": {
    "colab": {
      "provenance": [],
      "include_colab_link": true
    },
    "kernelspec": {
      "name": "python3",
      "display_name": "Python 3"
    },
    "language_info": {
      "name": "python"
    }
  },
  "cells": [
    {
      "cell_type": "markdown",
      "metadata": {
        "id": "view-in-github",
        "colab_type": "text"
      },
      "source": [
        "<a href=\"https://colab.research.google.com/github/vadim13213/University/blob/main/%D0%94%D0%9F%D0%9E_%D0%9E%D1%81%D0%BD%D0%BE%D0%B2%D1%8B_Python_%D0%9F%D1%80%D0%B0%D0%BA%D1%82%D0%B8%D1%87%D0%B5%D1%81%D0%BA%D0%B0%D1%8F_%D1%80%D0%B0%D0%B1%D0%BE%D1%82%D0%B0_1.ipynb\" target=\"_parent\"><img src=\"https://colab.research.google.com/assets/colab-badge.svg\" alt=\"Open In Colab\"/></a>"
      ]
    },
    {
      "cell_type": "markdown",
      "source": [
        "# **Практическая работа №1. Введение в Python. Функции ввода-вывода. Основные типы и структуры данных**\n",
        "\n",
        "---\n",
        "\n",
        "\n",
        "\n"
      ],
      "metadata": {
        "id": "wfO8faq6ZSPR"
      }
    },
    {
      "cell_type": "markdown",
      "source": [
        "**Обучающийся:** *[Захаренко Вадим Олегович]*  \n"
      ],
      "metadata": {
        "id": "s1lvsaUa1kGY"
      }
    },
    {
      "cell_type": "markdown",
      "source": [
        "---"
      ],
      "metadata": {
        "id": "Lmxdci5V1iUz"
      }
    },
    {
      "cell_type": "markdown",
      "source": [
        "## **Блок заданий №1. Функция `print`**\n",
        "\n",
        "\n"
      ],
      "metadata": {
        "id": "APa2xjpZcAkk"
      }
    },
    {
      "cell_type": "markdown",
      "source": [
        "#### 1. Выведите на экран фразу **\"Добро пожаловать в мир Python!\"** с помощью функции `print`.\n"
      ],
      "metadata": {
        "id": "omMWRtIod-k-"
      }
    },
    {
      "cell_type": "code",
      "source": [
        "print('Добро пожаловать в мир Python!')"
      ],
      "metadata": {
        "id": "0R5R1jSwd_FT",
        "outputId": "e1371e40-2323-4d95-aeb7-6099a294fe75",
        "colab": {
          "base_uri": "https://localhost:8080/"
        }
      },
      "execution_count": 1,
      "outputs": [
        {
          "output_type": "stream",
          "name": "stdout",
          "text": [
            "Добро пожаловать в мир Python!\n"
          ]
        }
      ]
    },
    {
      "cell_type": "markdown",
      "source": [
        "#### 2. Выведите на экран результат сложения чисел **15** и **27**.\n"
      ],
      "metadata": {
        "id": "A3ysPOjNd70e"
      }
    },
    {
      "cell_type": "code",
      "source": [
        "print(15+27)"
      ],
      "metadata": {
        "id": "5wnr_TY1eCmM",
        "outputId": "1664034a-cc25-4d67-8993-f098cf90fdca",
        "colab": {
          "base_uri": "https://localhost:8080/"
        }
      },
      "execution_count": 2,
      "outputs": [
        {
          "output_type": "stream",
          "name": "stdout",
          "text": [
            "42\n"
          ]
        }
      ]
    },
    {
      "cell_type": "markdown",
      "source": [
        "#### 3. Сохраните свое имя в переменную и выведите его на экран с помощью `print`."
      ],
      "metadata": {
        "id": "RBkgp7Bjd9VL"
      }
    },
    {
      "cell_type": "code",
      "source": [
        "name = \"Vadim\"\n",
        "print(name)"
      ],
      "metadata": {
        "id": "R7V70qsCeCxl",
        "outputId": "5d4757e7-1ae7-41b0-f5dd-cbdbccea7077",
        "colab": {
          "base_uri": "https://localhost:8080/"
        }
      },
      "execution_count": 3,
      "outputs": [
        {
          "output_type": "stream",
          "name": "stdout",
          "text": [
            "Vadim\n"
          ]
        }
      ]
    },
    {
      "cell_type": "markdown",
      "source": [
        "#### 4. Выведите на экран несколько строк текста, каждая из которых отображается с новой строки."
      ],
      "metadata": {
        "id": "8q_iVvGed6VD"
      }
    },
    {
      "cell_type": "code",
      "source": [
        "first_name = \"Vadim\"\n",
        "last_name = \"Zakharenko\"\n",
        "print(f'{first_name}\\n{last_name}')"
      ],
      "metadata": {
        "id": "5uFFGny2eC_7",
        "outputId": "dd4e69cc-106e-45b9-e0a1-37410400177f",
        "colab": {
          "base_uri": "https://localhost:8080/"
        }
      },
      "execution_count": 9,
      "outputs": [
        {
          "output_type": "stream",
          "name": "stdout",
          "text": [
            "Vadim\n",
            "Zakharenko\n"
          ]
        }
      ]
    },
    {
      "cell_type": "markdown",
      "source": [
        "#### 5. Выведите результат математического выражения с использованием f-строк, например:\n",
        "\n",
        "   ```python\n",
        "   7 + 7 = 14\n",
        "   ```\n"
      ],
      "metadata": {
        "id": "ZwTwWIbpeO8B"
      }
    },
    {
      "cell_type": "code",
      "source": [
        "print(f'{7 + 7}')"
      ],
      "metadata": {
        "id": "f7cGPh5reXb8",
        "outputId": "3e3af432-dbc5-4a18-8608-a4fece80005c",
        "colab": {
          "base_uri": "https://localhost:8080/"
        }
      },
      "execution_count": 8,
      "outputs": [
        {
          "output_type": "stream",
          "name": "stdout",
          "text": [
            "14\n"
          ]
        }
      ]
    },
    {
      "cell_type": "markdown",
      "source": [
        "## **Блок заданий №2. Функция `input`**\n",
        "\n"
      ],
      "metadata": {
        "id": "YBCWUDzEdQcl"
      }
    },
    {
      "cell_type": "markdown",
      "source": [
        "#### 1. Запросите у пользователя три разных числа и выведите их произведение.\n"
      ],
      "metadata": {
        "id": "1JG7ncRffYpN"
      }
    },
    {
      "cell_type": "code",
      "source": [
        "a, b, c = [float(input(f'Введите число {i+1}:')) for i in range (3)]\n",
        "print(f'Произведение: {a*b*c}')"
      ],
      "metadata": {
        "id": "duI1IqytfZo3",
        "outputId": "bf10cf45-7dfe-405f-d819-398be35bf460",
        "colab": {
          "base_uri": "https://localhost:8080/"
        }
      },
      "execution_count": 11,
      "outputs": [
        {
          "output_type": "stream",
          "name": "stdout",
          "text": [
            "Введите число 1:1\n",
            "Введите число 2:3\n",
            "Введите число 3:5\n",
            "Произведение: 15.0\n"
          ]
        }
      ]
    },
    {
      "cell_type": "markdown",
      "source": [
        "#### 2. Попросите пользователя ввести свое ФИО, а затем выведите фамилию и инициалы.\n"
      ],
      "metadata": {
        "id": "CGLKsG9yfXZf"
      }
    },
    {
      "cell_type": "code",
      "source": [
        "s, n, p = input(\"Введите ФИО: \").split(); print(f'{s} {n[0]}.{p[0]}.')"
      ],
      "metadata": {
        "id": "OhBXFkoffZ1l",
        "outputId": "ae0386c5-1e93-4861-a3c2-2d286b4c8fb0",
        "colab": {
          "base_uri": "https://localhost:8080/"
        }
      },
      "execution_count": 14,
      "outputs": [
        {
          "output_type": "stream",
          "name": "stdout",
          "text": [
            "Введите ФИО: Захаренко Вадим Олегович\n",
            "Захаренко В.О.\n"
          ]
        }
      ]
    },
    {
      "cell_type": "markdown",
      "source": [
        "#### 3. Получите от пользователя строку и символ, затем определите, сколько раз этот символ встречается в строке.\n"
      ],
      "metadata": {
        "id": "FJd73_DSfWgf"
      }
    },
    {
      "cell_type": "code",
      "source": [
        "text, b = input(\"Введите строку и через пробел символ: \").split(); print(sum(1 for i in text if i == b))"
      ],
      "metadata": {
        "id": "VAzbeJANfaAP",
        "outputId": "d07d5ca7-4226-40e3-9229-77794c9f7760",
        "colab": {
          "base_uri": "https://localhost:8080/"
        }
      },
      "execution_count": 18,
      "outputs": [
        {
          "output_type": "stream",
          "name": "stdout",
          "text": [
            "Введите строку и через пробел символ: qweasdqwefjdfbdbjkjkdfb w\n",
            "2\n"
          ]
        }
      ]
    },
    {
      "cell_type": "markdown",
      "source": [
        "#### 4. Попросите пользователя ввести любимый цвет и выведите сообщение: **\"[Цвет] - красивый цвет!\"**.\n"
      ],
      "metadata": {
        "id": "ZY_cf1nbfVbo"
      }
    },
    {
      "cell_type": "markdown",
      "source": [],
      "metadata": {
        "id": "mx_tRwzFc3dZ"
      }
    },
    {
      "cell_type": "code",
      "source": [
        "print(input(\"Введите ваш любимый цвет: \") + \" - красивый цвет!\")"
      ],
      "metadata": {
        "id": "vVoFM74MfaMe",
        "outputId": "d1dab5d2-3f9f-4c77-eefe-9ed6bd41f4eb",
        "colab": {
          "base_uri": "https://localhost:8080/"
        }
      },
      "execution_count": 20,
      "outputs": [
        {
          "output_type": "stream",
          "name": "stdout",
          "text": [
            "Введите ваш любимый цвет: Черный\n",
            "Черный - красивый цвет!\n"
          ]
        }
      ]
    },
    {
      "cell_type": "markdown",
      "source": [
        "#### 5. Получите от пользователя строку и выведите ее длину."
      ],
      "metadata": {
        "id": "a6ekPIcOfUFK"
      }
    },
    {
      "cell_type": "code",
      "source": [
        "print(f'Длина - {len(input(\"Введите строку:\"))}')"
      ],
      "metadata": {
        "id": "psRmx_htfas2",
        "outputId": "f92cb818-11cb-4d17-eb76-914bdbb85acd",
        "colab": {
          "base_uri": "https://localhost:8080/"
        }
      },
      "execution_count": 23,
      "outputs": [
        {
          "output_type": "stream",
          "name": "stdout",
          "text": [
            "Введите строку:qwe\n",
            "Длина - 3\n"
          ]
        }
      ]
    },
    {
      "cell_type": "markdown",
      "source": [
        "## **Блок заданий №3. Тип данных `int`**"
      ],
      "metadata": {
        "id": "gQ99P3lxgEvA"
      }
    },
    {
      "cell_type": "markdown",
      "source": [
        "#### Тип данных `int`\n",
        "\n",
        "\n",
        "\n",
        "\n",
        "\n"
      ],
      "metadata": {
        "id": "c-pHmy5NctvU"
      }
    },
    {
      "cell_type": "markdown",
      "source": [
        "1. Создайте переменную типа `int`, присвойте ей значение **42** и выведите на экран."
      ],
      "metadata": {
        "id": "1YAKZCMuglIZ"
      }
    },
    {
      "cell_type": "code",
      "source": [
        "a = 42\n",
        "print(a)"
      ],
      "metadata": {
        "id": "BpqJyc5GgmWz",
        "outputId": "e77d593d-a71d-4040-9295-5cbe6d99c11d",
        "colab": {
          "base_uri": "https://localhost:8080/"
        }
      },
      "execution_count": 24,
      "outputs": [
        {
          "output_type": "stream",
          "name": "stdout",
          "text": [
            "42\n"
          ]
        }
      ]
    },
    {
      "cell_type": "markdown",
      "source": [
        "2. Вычислите и выведите результат выражения **(17 * 3) + (10 / 2)** в виде целого числа."
      ],
      "metadata": {
        "id": "J3FS1RtDgkCO"
      }
    },
    {
      "cell_type": "code",
      "source": [
        "a = int((17*3)+(10/2))\n",
        "print(a)"
      ],
      "metadata": {
        "id": "YLIx8CCrgmkU",
        "outputId": "5f8012b2-fa3b-4a00-d577-67e4cdda668a",
        "colab": {
          "base_uri": "https://localhost:8080/"
        }
      },
      "execution_count": 25,
      "outputs": [
        {
          "output_type": "stream",
          "name": "stdout",
          "text": [
            "56\n"
          ]
        }
      ]
    },
    {
      "cell_type": "markdown",
      "source": [
        "3. Преобразуйте строку **\"100\"** в целое число и добавьте к нему **25**."
      ],
      "metadata": {
        "id": "91x1Lb4tgier"
      }
    },
    {
      "cell_type": "code",
      "source": [
        "a = \"100\"\n",
        "print(int(a) + 25)"
      ],
      "metadata": {
        "id": "vmEIAy1CgmzH",
        "outputId": "79bd7ba0-250c-4dee-e312-791fac1e6f99",
        "colab": {
          "base_uri": "https://localhost:8080/"
        }
      },
      "execution_count": 26,
      "outputs": [
        {
          "output_type": "stream",
          "name": "stdout",
          "text": [
            "125\n"
          ]
        }
      ]
    },
    {
      "cell_type": "markdown",
      "source": [
        "4. Проверьте тип переменной, которая хранит значение **7**, используя функцию `type()`."
      ],
      "metadata": {
        "id": "Ua_0A7teghG0"
      }
    },
    {
      "cell_type": "code",
      "source": [
        "a = 7\n",
        "print(type(a))"
      ],
      "metadata": {
        "id": "56_CnKgGgnFi",
        "outputId": "fdea0118-971e-436d-9831-3f975c04ddab",
        "colab": {
          "base_uri": "https://localhost:8080/"
        }
      },
      "execution_count": 27,
      "outputs": [
        {
          "output_type": "stream",
          "name": "stdout",
          "text": [
            "<class 'int'>\n"
          ]
        }
      ]
    },
    {
      "cell_type": "markdown",
      "source": [
        "5. Создайте две переменные целого типа, присвойте им значения и выведите их разницу."
      ],
      "metadata": {
        "id": "JxK0fU_Wgf8J"
      }
    },
    {
      "cell_type": "code",
      "source": [
        "a, b = 52, 11\n",
        "print(a-b)"
      ],
      "metadata": {
        "id": "GFsY9xSkgnfv",
        "outputId": "1a1c5eb4-da4a-4bc5-d361-5e9a03e27c27",
        "colab": {
          "base_uri": "https://localhost:8080/"
        }
      },
      "execution_count": 28,
      "outputs": [
        {
          "output_type": "stream",
          "name": "stdout",
          "text": [
            "41\n"
          ]
        }
      ]
    },
    {
      "cell_type": "markdown",
      "source": [
        "## **Блок заданий №4. Тип данных `float`**"
      ],
      "metadata": {
        "id": "G-DskIxcg598"
      }
    },
    {
      "cell_type": "markdown",
      "source": [
        "#### 1. Запросите у пользователя вещественное число и выведите его квадрат.\n",
        "\n",
        "\n",
        "\n"
      ],
      "metadata": {
        "id": "W5liVT_kcwnQ"
      }
    },
    {
      "cell_type": "code",
      "source": [
        "print(f'Квадрат вашего числа: {(float(input(\"Введите вещественное число: \")))**2}')"
      ],
      "metadata": {
        "id": "S_i6OLwShHaH",
        "outputId": "0e3f69b4-078f-4ebc-a629-b87fa25d8f3c",
        "colab": {
          "base_uri": "https://localhost:8080/"
        }
      },
      "execution_count": 31,
      "outputs": [
        {
          "output_type": "stream",
          "name": "stdout",
          "text": [
            "Введите вещественное число: 3.3\n",
            "Квадрат вашего числа: 10.889999999999999\n"
          ]
        }
      ]
    },
    {
      "cell_type": "markdown",
      "source": [
        "#### 2. Запросите у пользователя вещественное число и округлите его до двух знаков после запятой."
      ],
      "metadata": {
        "id": "rcXGDx7FhGZ7"
      }
    },
    {
      "cell_type": "code",
      "source": [
        "print(round(float(input(\"Введите вещественное число: \")), 2))"
      ],
      "metadata": {
        "id": "W534mNlphHoW",
        "outputId": "63d8fab2-a439-471a-aca2-af516c3813c4",
        "colab": {
          "base_uri": "https://localhost:8080/"
        }
      },
      "execution_count": 33,
      "outputs": [
        {
          "output_type": "stream",
          "name": "stdout",
          "text": [
            "Введите вещественное число: 3.3333\n",
            "3.33\n"
          ]
        }
      ]
    },
    {
      "cell_type": "markdown",
      "source": [
        "#### 3. Сложите два числа с плавающей точкой: **2.5** и **4.7**, выведите результат."
      ],
      "metadata": {
        "id": "2HZIMG65hEwD"
      }
    },
    {
      "cell_type": "code",
      "source": [
        "print(2.5 + 4.7)"
      ],
      "metadata": {
        "id": "tNhoDLUqhH-Q",
        "outputId": "f64a6201-521f-4987-e8fe-9e9c335dbded",
        "colab": {
          "base_uri": "https://localhost:8080/"
        }
      },
      "execution_count": 34,
      "outputs": [
        {
          "output_type": "stream",
          "name": "stdout",
          "text": [
            "7.2\n"
          ]
        }
      ]
    },
    {
      "cell_type": "markdown",
      "source": [
        "#### 4. Преобразуйте градусы Цельсия, введенные пользователем, в Фаренгейты по формуле `F = C * 9/5 + 32`."
      ],
      "metadata": {
        "id": "lbX1tt0_hDlr"
      }
    },
    {
      "cell_type": "code",
      "source": [
        "print(int(input(\"Введиет градусы Цельсия: \"))*9/5 +32)"
      ],
      "metadata": {
        "id": "tjYR7aRHhILq",
        "outputId": "f7d1f88f-0307-4038-b824-a42bdf901e68",
        "colab": {
          "base_uri": "https://localhost:8080/"
        }
      },
      "execution_count": 35,
      "outputs": [
        {
          "output_type": "stream",
          "name": "stdout",
          "text": [
            "Введиет градусы Цельсия: 18\n",
            "64.4\n"
          ]
        }
      ]
    },
    {
      "cell_type": "markdown",
      "source": [
        "#### 5. Получите от пользователя длину и ширину прямоугольника, вычислите его площадь и периметр."
      ],
      "metadata": {
        "id": "RhghSwthhCPJ"
      }
    },
    {
      "cell_type": "code",
      "source": [
        "length, width = map(int, input(\"Введиет длину и ширину: \").split())\n",
        "print(f'Площадь: {length*width}\\nПериметр: {2*(length+width)}')"
      ],
      "metadata": {
        "id": "GjKTKXmZhIaN",
        "outputId": "229d9d90-bef6-4c7b-9c0a-efde4ed8fbf4",
        "colab": {
          "base_uri": "https://localhost:8080/"
        }
      },
      "execution_count": 41,
      "outputs": [
        {
          "output_type": "stream",
          "name": "stdout",
          "text": [
            "Введиет длину и ширину: 11 12\n",
            "Площадь: 132\n",
            "Периметр: 46\n"
          ]
        }
      ]
    },
    {
      "cell_type": "markdown",
      "source": [
        "## **Блок заданий №5. Тип данных `str`**"
      ],
      "metadata": {
        "id": "CslTMbtXiWOP"
      }
    },
    {
      "cell_type": "markdown",
      "source": [
        "####1. Создайте строку **\"Python - самый популярный язык программирования\"** и выведите ее.\n"
      ],
      "metadata": {
        "id": "KUmla5cCieae"
      }
    },
    {
      "cell_type": "code",
      "source": [
        "print(\"Python - самый популярный язык программирования\")"
      ],
      "metadata": {
        "id": "Q7kHloVXlMVB",
        "outputId": "82566ccc-9a0a-4117-8460-e1aa40dde823",
        "colab": {
          "base_uri": "https://localhost:8080/"
        }
      },
      "execution_count": 42,
      "outputs": [
        {
          "output_type": "stream",
          "name": "stdout",
          "text": [
            "Python - самый популярный язык программирования\n"
          ]
        }
      ]
    },
    {
      "cell_type": "markdown",
      "source": [
        "####2. Выведите первый и последний символы строки **\"Привет, мир!\"**."
      ],
      "metadata": {
        "id": "ypQL09raiehN"
      }
    },
    {
      "cell_type": "code",
      "source": [
        "hello = \"Привет, мир\"\n",
        "print(hello[0], hello[-1])"
      ],
      "metadata": {
        "id": "iVU99HAUlMpC",
        "outputId": "e8291648-3afc-45f7-fcde-69eb9cb0022a",
        "colab": {
          "base_uri": "https://localhost:8080/"
        }
      },
      "execution_count": 44,
      "outputs": [
        {
          "output_type": "stream",
          "name": "stdout",
          "text": [
            "П р\n"
          ]
        }
      ]
    },
    {
      "cell_type": "markdown",
      "source": [
        "####3. Соедините три строки: **\"МИИГАиК - \"** , **\"Лучший \"**, **\"ВУЗ!\"** выведите результат."
      ],
      "metadata": {
        "id": "XxKbQhFkiw83"
      }
    },
    {
      "cell_type": "code",
      "source": [
        "print(\"МИИГАиК - \" + \"Лучший \" + \"ВУЗ!\")"
      ],
      "metadata": {
        "id": "4amk_NcnlM3T",
        "outputId": "0d09d615-2de7-4076-ec44-61468d5309e7",
        "colab": {
          "base_uri": "https://localhost:8080/"
        }
      },
      "execution_count": 45,
      "outputs": [
        {
          "output_type": "stream",
          "name": "stdout",
          "text": [
            "МИИГАиК - Лучший ВУЗ!\n"
          ]
        }
      ]
    },
    {
      "cell_type": "markdown",
      "source": [
        "####4. Преобразуйте строку **\"12345\"** в число и выведите тип полученного значения.\n"
      ],
      "metadata": {
        "id": "MXOJX4g8ieoI"
      }
    },
    {
      "cell_type": "code",
      "source": [
        "a = \"12345\"\n",
        "print(\"ДО\", type(a), \"\\nПосле\", int(a), type(a))"
      ],
      "metadata": {
        "id": "t6Wvy7CZlNM2",
        "outputId": "4894b6b1-cc03-4b51-e8c6-6b1b9ebb8213",
        "colab": {
          "base_uri": "https://localhost:8080/"
        }
      },
      "execution_count": 51,
      "outputs": [
        {
          "output_type": "stream",
          "name": "stdout",
          "text": [
            "ДО <class 'str'> \n",
            "После 12345 <class 'str'>\n"
          ]
        }
      ]
    },
    {
      "cell_type": "markdown",
      "source": [
        "####5. Сделайте все буквы строки **\"python is Fun\"** заглавными и выведите результат."
      ],
      "metadata": {
        "id": "hhBQ-8gMc0Li"
      }
    },
    {
      "cell_type": "code",
      "source": [
        "print(\"python is Fun\".upper())"
      ],
      "metadata": {
        "id": "n3KLT91zlNgY",
        "outputId": "3d121ad8-abbd-4434-e469-a8c0636f1891",
        "colab": {
          "base_uri": "https://localhost:8080/"
        }
      },
      "execution_count": 53,
      "outputs": [
        {
          "output_type": "stream",
          "name": "stdout",
          "text": [
            "PYTHON IS FUN\n"
          ]
        }
      ]
    },
    {
      "cell_type": "markdown",
      "source": [
        "## **Блок заданий №6. Тип данных `list`**"
      ],
      "metadata": {
        "id": "ud5LmPUPlXND"
      }
    },
    {
      "cell_type": "markdown",
      "source": [
        "####1. Создайте список из чисел **[10, 20, 30, 40, 50]** и выведите его.\n"
      ],
      "metadata": {
        "id": "ZDkNefxXlXND"
      }
    },
    {
      "cell_type": "code",
      "source": [
        "a = [10, 20, 30, 40, 50]\n",
        "print(a)"
      ],
      "metadata": {
        "id": "G6fH9gBLlzI2",
        "outputId": "fb3e870b-c4a8-4984-86b3-d877fdf3ff40",
        "colab": {
          "base_uri": "https://localhost:8080/"
        }
      },
      "execution_count": 57,
      "outputs": [
        {
          "output_type": "stream",
          "name": "stdout",
          "text": [
            "[10, 20, 30, 40, 50]\n"
          ]
        }
      ]
    },
    {
      "cell_type": "markdown",
      "source": [
        "####2. Добавьте в список строку **\"новый элемент\"** и выведите обновленный список.\n"
      ],
      "metadata": {
        "id": "oDUtdPi-lo7n"
      }
    },
    {
      "cell_type": "code",
      "source": [
        "a.append(\"новый элемент\")\n",
        "a"
      ],
      "metadata": {
        "id": "6QhNXffflzXT",
        "outputId": "73eec38e-6b81-45e6-98c0-8138179facd8",
        "colab": {
          "base_uri": "https://localhost:8080/"
        }
      },
      "execution_count": 58,
      "outputs": [
        {
          "output_type": "execute_result",
          "data": {
            "text/plain": [
              "[10, 20, 30, 40, 50, 'новый элемент']"
            ]
          },
          "metadata": {},
          "execution_count": 58
        }
      ]
    },
    {
      "cell_type": "markdown",
      "source": [
        "####3. Из списка `['python', 'java', 'c++', 'ruby', 'perl']` выведите элементы с 2-го по 4-й включительно.\n"
      ],
      "metadata": {
        "id": "BZlOVdc4lo-O"
      }
    },
    {
      "cell_type": "code",
      "source": [
        "langs  = ['python', 'java', 'c++', 'ruby', 'perl']; print(langs[1:5])"
      ],
      "metadata": {
        "id": "lU12ExUElzjH",
        "outputId": "83d58a0c-1610-48bf-b3d0-b1ad2e0a8435",
        "colab": {
          "base_uri": "https://localhost:8080/"
        }
      },
      "execution_count": 62,
      "outputs": [
        {
          "output_type": "stream",
          "name": "stdout",
          "text": [
            "['java', 'c++', 'ruby', 'perl']\n"
          ]
        }
      ]
    },
    {
      "cell_type": "markdown",
      "source": [
        "####4. Создайте пустой список, добавьте в него три любых значения и выведите итоговый список.\n"
      ],
      "metadata": {
        "id": "0dZPxhU_lpCN"
      }
    },
    {
      "cell_type": "code",
      "source": [
        "langs = []; [langs.append(i) for i in range (3)]; langs"
      ],
      "metadata": {
        "id": "pRQ1BHKUlzud",
        "outputId": "b7f8f623-087f-44f9-d76f-ff71f772ab7d",
        "colab": {
          "base_uri": "https://localhost:8080/"
        }
      },
      "execution_count": 66,
      "outputs": [
        {
          "output_type": "execute_result",
          "data": {
            "text/plain": [
              "[0, 1, 2]"
            ]
          },
          "metadata": {},
          "execution_count": 66
        }
      ]
    },
    {
      "cell_type": "markdown",
      "source": [
        "####5. Измените второй элемент списка **[1, 2, 3, 4, 5]** на число **200** и выведите список."
      ],
      "metadata": {
        "id": "o104mH_plpJl"
      }
    },
    {
      "cell_type": "code",
      "source": [
        "langs = [1, 2, 3, 4, 5]; langs[1] = 200; langs"
      ],
      "metadata": {
        "id": "ur_sqeAYlz-0",
        "outputId": "bc06dffb-e0b7-496f-9465-c9e05aec62c2",
        "colab": {
          "base_uri": "https://localhost:8080/"
        }
      },
      "execution_count": 70,
      "outputs": [
        {
          "output_type": "execute_result",
          "data": {
            "text/plain": [
              "[1, 200, 3, 4, 5]"
            ]
          },
          "metadata": {},
          "execution_count": 70
        }
      ]
    },
    {
      "cell_type": "markdown",
      "source": [
        "## **Блок заданий №7. Тип данных `tuple`**"
      ],
      "metadata": {
        "id": "w7lcJPx9mhLe"
      }
    },
    {
      "cell_type": "markdown",
      "source": [
        "####1. Создайте кортеж из чисел **(1, 2, 3, 4, 5)** и выведите его на экран.\n"
      ],
      "metadata": {
        "id": "HqmF9aMWmeon"
      }
    },
    {
      "cell_type": "code",
      "source": [
        "a = (1, 2, 3, 4, 5)\n",
        "a"
      ],
      "metadata": {
        "id": "hGuk1KfHn7V7",
        "outputId": "5cc43c35-be3e-4fab-85dd-37f0326649d3",
        "colab": {
          "base_uri": "https://localhost:8080/"
        }
      },
      "execution_count": 83,
      "outputs": [
        {
          "output_type": "execute_result",
          "data": {
            "text/plain": [
              "(1, 2, 3, 4, 5)"
            ]
          },
          "metadata": {},
          "execution_count": 83
        }
      ]
    },
    {
      "cell_type": "markdown",
      "source": [
        "####2. Попробуйте изменить первый элемент кортежа и объясните в комментариях к программе, что произошло.\n"
      ],
      "metadata": {
        "id": "_QQf4g6gmerF"
      }
    },
    {
      "cell_type": "code",
      "source": [
        "a[0] = 21\n",
        "a"
      ],
      "metadata": {
        "id": "sZcbKwV_n7vA",
        "outputId": "55352b7f-8bdc-438e-fe57-da7e69116bc4",
        "colab": {
          "base_uri": "https://localhost:8080/",
          "height": 158
        }
      },
      "execution_count": 72,
      "outputs": [
        {
          "output_type": "error",
          "ename": "TypeError",
          "evalue": "'tuple' object does not support item assignment",
          "traceback": [
            "\u001b[0;31m---------------------------------------------------------------------------\u001b[0m",
            "\u001b[0;31mTypeError\u001b[0m                                 Traceback (most recent call last)",
            "\u001b[0;32m/tmp/ipython-input-2786979763.py\u001b[0m in \u001b[0;36m<cell line: 0>\u001b[0;34m()\u001b[0m\n\u001b[0;32m----> 1\u001b[0;31m \u001b[0ma\u001b[0m\u001b[0;34m[\u001b[0m\u001b[0;36m0\u001b[0m\u001b[0;34m]\u001b[0m \u001b[0;34m=\u001b[0m \u001b[0;36m21\u001b[0m\u001b[0;34m\u001b[0m\u001b[0;34m\u001b[0m\u001b[0m\n\u001b[0m\u001b[1;32m      2\u001b[0m \u001b[0ma\u001b[0m\u001b[0;34m\u001b[0m\u001b[0;34m\u001b[0m\u001b[0m\n",
            "\u001b[0;31mTypeError\u001b[0m: 'tuple' object does not support item assignment"
          ]
        }
      ]
    },
    {
      "cell_type": "markdown",
      "source": [
        "Кортежи используются для хранения данных, которые не должны изменяться в процессе работы программы"
      ],
      "metadata": {
        "id": "8_xDvSXkrL6S"
      }
    },
    {
      "cell_type": "markdown",
      "source": [
        "####3. Преобразуйте кортеж в строку и выведите результат.\n"
      ],
      "metadata": {
        "id": "6fMHK5femevO"
      }
    },
    {
      "cell_type": "code",
      "source": [
        "print(''.join(str(x) for x in a))\n"
      ],
      "metadata": {
        "id": "AudeNNOin77h",
        "outputId": "042d826d-6d72-4a7c-d389-d5f092f5576a",
        "colab": {
          "base_uri": "https://localhost:8080/"
        }
      },
      "execution_count": 81,
      "outputs": [
        {
          "output_type": "stream",
          "name": "stdout",
          "text": [
            "12345\n"
          ]
        }
      ]
    },
    {
      "cell_type": "markdown",
      "source": [
        "####4. Проверьте, содержится ли определенный элемент в кортеже, выведите соответствующее сообщение.\n"
      ],
      "metadata": {
        "id": "HOOFXQYtmeyG"
      }
    },
    {
      "cell_type": "code",
      "source": [
        "[print(\"Содержится\") if 4 in a else \"Не содержится\"]"
      ],
      "metadata": {
        "id": "PlPkzGCon8N2",
        "outputId": "7b26ec1c-fa82-4b8c-abcb-3fc7bf0f09c3",
        "colab": {
          "base_uri": "https://localhost:8080/"
        }
      },
      "execution_count": 92,
      "outputs": [
        {
          "output_type": "stream",
          "name": "stdout",
          "text": [
            "Содержится\n"
          ]
        },
        {
          "output_type": "execute_result",
          "data": {
            "text/plain": [
              "[None]"
            ]
          },
          "metadata": {},
          "execution_count": 92
        }
      ]
    },
    {
      "cell_type": "markdown",
      "source": [
        "####5. Создайте кортеж, состоящий из нескольких одинаковых элементов, и найдите их количество с помощью метода `count()`.\n"
      ],
      "metadata": {
        "id": "HSi5wD3xme3I"
      }
    },
    {
      "cell_type": "code",
      "source": [
        "t = (1, 2, 3, 2, 4, 2, 5, 2, 3, 1)\n",
        "for element in set(t):\n",
        "    print(f\"Элемент {element} встречается {t.count(element)} раз(а)\")"
      ],
      "metadata": {
        "id": "G5eyJNkZn8aw",
        "outputId": "7be56f89-6d7e-47e0-f366-939b7acd83ab",
        "colab": {
          "base_uri": "https://localhost:8080/"
        }
      },
      "execution_count": 93,
      "outputs": [
        {
          "output_type": "stream",
          "name": "stdout",
          "text": [
            "Элемент 1 встречается 2 раз(а)\n",
            "Элемент 2 встречается 4 раз(а)\n",
            "Элемент 3 встречается 2 раз(а)\n",
            "Элемент 4 встречается 1 раз(а)\n",
            "Элемент 5 встречается 1 раз(а)\n"
          ]
        }
      ]
    },
    {
      "cell_type": "markdown",
      "source": [
        "## **Блок заданий №8. Тип данных `dict`**"
      ],
      "metadata": {
        "id": "v7nByOSzn6Gs"
      }
    },
    {
      "cell_type": "markdown",
      "source": [
        "####1. Создайте словарь с данными о себе: ключи **\"имя\"**, **\"возраст\"**, **\"город\"**; выведите его.\n"
      ],
      "metadata": {
        "id": "SdH7l87WoNxs"
      }
    },
    {
      "cell_type": "code",
      "source": [
        "person = {\"имя\":\"Вадим\",\"возраст\":21, \"город\":\"Ногинск\" }\n",
        "person"
      ],
      "metadata": {
        "id": "G_5mPREsoO__",
        "outputId": "fe1728a6-61e4-4f73-b914-0824ed07eb39",
        "colab": {
          "base_uri": "https://localhost:8080/"
        }
      },
      "execution_count": 94,
      "outputs": [
        {
          "output_type": "execute_result",
          "data": {
            "text/plain": [
              "{'имя': 'Вадим', 'возраст': 21, 'город': 'Ногинск'}"
            ]
          },
          "metadata": {},
          "execution_count": 94
        }
      ]
    },
    {
      "cell_type": "markdown",
      "source": [
        "####2. Выведите значение по ключу **\"имя\"** из созданного словаря.\n"
      ],
      "metadata": {
        "id": "nsoYMyesoMxq"
      }
    },
    {
      "cell_type": "code",
      "source": [
        "person.get(\"имя\")"
      ],
      "metadata": {
        "id": "OL_waQuioPSG",
        "outputId": "d428074b-5c02-4c64-8207-6d9bf1a052f2",
        "colab": {
          "base_uri": "https://localhost:8080/",
          "height": 36
        }
      },
      "execution_count": 97,
      "outputs": [
        {
          "output_type": "execute_result",
          "data": {
            "text/plain": [
              "'Вадим'"
            ],
            "application/vnd.google.colaboratory.intrinsic+json": {
              "type": "string"
            }
          },
          "metadata": {},
          "execution_count": 97
        }
      ]
    },
    {
      "cell_type": "markdown",
      "source": [
        "####3. Добавьте в словарь новый ключ **\"профессия\"** со значением и выведите словарь.\n"
      ],
      "metadata": {
        "id": "0T_miCFjoLhI"
      }
    },
    {
      "cell_type": "code",
      "source": [
        "person[\"профессия\"] = \"Прикладная информатика\"\n",
        "person"
      ],
      "metadata": {
        "id": "5LOqyJAHoPfn",
        "outputId": "aa6443bb-3b39-4d01-89c5-b90d44080e3c",
        "colab": {
          "base_uri": "https://localhost:8080/"
        }
      },
      "execution_count": 98,
      "outputs": [
        {
          "output_type": "execute_result",
          "data": {
            "text/plain": [
              "{'имя': 'Вадим',\n",
              " 'возраст': 21,\n",
              " 'город': 'Ногинск',\n",
              " 'профессия': 'Прикладная информатика'}"
            ]
          },
          "metadata": {},
          "execution_count": 98
        }
      ]
    },
    {
      "cell_type": "markdown",
      "source": [
        "####4. Удалите из словаря ключ **\"город\"** и выведите обновленный словарь.\n"
      ],
      "metadata": {
        "id": "QPwxJK74oKZ3"
      }
    },
    {
      "cell_type": "code",
      "source": [
        "person.pop(\"город\")\n",
        "person"
      ],
      "metadata": {
        "id": "3dPMpP1koPrR",
        "outputId": "5393664e-ccdf-4a91-92ab-f99248074aa7",
        "colab": {
          "base_uri": "https://localhost:8080/"
        }
      },
      "execution_count": 99,
      "outputs": [
        {
          "output_type": "execute_result",
          "data": {
            "text/plain": [
              "{'имя': 'Вадим', 'возраст': 21, 'профессия': 'Прикладная информатика'}"
            ]
          },
          "metadata": {},
          "execution_count": 99
        }
      ]
    },
    {
      "cell_type": "markdown",
      "source": [
        "####5. Создайте пустой словарь и добавьте в него пару ключ-значение, введенных пользователем."
      ],
      "metadata": {
        "id": "7UDgxikGoJXz"
      }
    },
    {
      "cell_type": "code",
      "source": [
        "person2 = {}\n",
        "person2[input(\"Введите ключ: \")] = input(\"Введите значение ключа: \")\n",
        "person2"
      ],
      "metadata": {
        "id": "AofDComvoP2d",
        "outputId": "23799f92-65e3-4a6d-e254-847baf09b72d",
        "colab": {
          "base_uri": "https://localhost:8080/"
        }
      },
      "execution_count": 101,
      "outputs": [
        {
          "name": "stdout",
          "output_type": "stream",
          "text": [
            "Введите значение ключа: Арбуз\n",
            "Введите ключ: фрукт\n"
          ]
        },
        {
          "output_type": "execute_result",
          "data": {
            "text/plain": [
              "{'фрукт': 'Арбуз'}"
            ]
          },
          "metadata": {},
          "execution_count": 101
        }
      ]
    }
  ]
}
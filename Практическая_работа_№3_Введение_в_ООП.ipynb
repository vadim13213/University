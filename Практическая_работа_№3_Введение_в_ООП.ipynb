{
  "nbformat": 4,
  "nbformat_minor": 0,
  "metadata": {
    "colab": {
      "provenance": [],
      "include_colab_link": true
    },
    "kernelspec": {
      "name": "python3",
      "display_name": "Python 3"
    },
    "language_info": {
      "name": "python"
    }
  },
  "cells": [
    {
      "cell_type": "markdown",
      "metadata": {
        "id": "view-in-github",
        "colab_type": "text"
      },
      "source": [
        "<a href=\"https://colab.research.google.com/github/vadim13213/University/blob/main/%D0%9F%D1%80%D0%B0%D0%BA%D1%82%D0%B8%D1%87%D0%B5%D1%81%D0%BA%D0%B0%D1%8F_%D1%80%D0%B0%D0%B1%D0%BE%D1%82%D0%B0_%E2%84%963_%D0%92%D0%B2%D0%B5%D0%B4%D0%B5%D0%BD%D0%B8%D0%B5_%D0%B2_%D0%9E%D0%9E%D0%9F.ipynb\" target=\"_parent\"><img src=\"https://colab.research.google.com/assets/colab-badge.svg\" alt=\"Open In Colab\"/></a>"
      ]
    },
    {
      "cell_type": "markdown",
      "source": [
        "# **Практическая работа №3. Введение в ООП**\n",
        "\n",
        "\n"
      ],
      "metadata": {
        "id": "s-EuQCpnWXCn"
      }
    },
    {
      "cell_type": "markdown",
      "source": [
        "## **Задание №1. Создайте класс Sphere для представления сферы в трехмерном пространстве**\n"
      ],
      "metadata": {
        "id": "TQ5SpdjdbD4D"
      }
    },
    {
      "cell_type": "markdown",
      "source": [
        "Обеспечьте следующие методы класса:\n",
        "\n",
        "1. Конструктор, принимающий 4 действительных числа: радиус, и 3 координаты центра шара. Если конструктор вызывается без аргументов, создать объект сферы с единичным радиусом и центром в начале координат. Если конструктор вызывается с аргументом, создать объект сферы с соответствующим радиусом и центром в начале координат.\n",
        "\n",
        "2. Метод get_volume (), который возвращает действительное число — объем шара, ограниченной текущей сферой.\n",
        "\n",
        "3. Метод get_square (), который возвращает действительное число — площадь внешней поверхности сферы.\n",
        "\n",
        "4. Метод get_radius (), который возвращает действительное число — радиус сферы.\n",
        "\n",
        "5. Метод get_center (), который возвращает тьюпл с 3 действительными числами — координатами центра сферы в том же порядке, в каком они задаются в конструкторе.\n",
        "\n",
        "6. Метод set_radius (r), который принимает 1 аргумент — действительное число, и меняет радиус текущей сферы, ничего не возвращая.\n",
        "\n",
        "7. Метод set_center (x, y, z), который принимает 3 аргумента — действительных числа, и меняет координаты центра сферы, ничего не возвращая. Координаты задаются в том же порядке, что и в конструкторе.\n",
        "\n",
        "8. Метод is_point_inside (x, y, z), который принимает 3 аргумента — действительных числа — координаты некоторой точки в пространстве (в том же порядке, что и в конструкторе), и возвращает логическое значение True или False в зависимости от того, находится эта точка внутри сферы."
      ],
      "metadata": {
        "id": "Q5Ow51wfASZH"
      }
    },
    {
      "cell_type": "code",
      "source": [
        "# Тесты\n",
        "\n",
        "s0 = Sphere(0.5) # test sphere creation with radius and default center\n",
        "print(s0.get_center()) # (0.0, 0.0, 0.0)\n",
        "print(s0.get_volume()) # 0.523598775598\n",
        "print(s0.is_point_inside(0 , -1.5, 0)) # False\n",
        "s0.set_radius(1.6)\n",
        "print(s0.is_point_inside(0, -1.5, 0)) # True\n",
        "print(s0.get_radius()) # 1.6"
      ],
      "metadata": {
        "id": "xYx3bR2Lbv42",
        "colab": {
          "base_uri": "https://localhost:8080/"
        },
        "outputId": "52dc6c69-30ce-417a-8548-89297d3694e5"
      },
      "execution_count": null,
      "outputs": [
        {
          "output_type": "stream",
          "name": "stdout",
          "text": [
            "(0.0, 0.0, 0.0)\n",
            "0.5235987755982988\n",
            "False\n",
            "True\n",
            "1.6\n"
          ]
        }
      ]
    },
    {
      "cell_type": "code",
      "source": [
        "import math\n",
        "\n",
        "class Sphere:\n",
        "    def __init__(self, r=1.0, x=0.0, y=0.0, z=0.0):\n",
        "        self.r = r\n",
        "        self.x = x\n",
        "        self.y = y\n",
        "        self.z = z\n",
        "\n",
        "    def get_volume(self):\n",
        "        return (4/3) * math.pi * self.r**3\n",
        "\n",
        "    def get_square(self):\n",
        "        return 4 * math.pi * self.r**2\n",
        "\n",
        "    def get_radius(self):\n",
        "        return self.r\n",
        "\n",
        "    def get_center(self):\n",
        "        return (self.x, self.y, self.z)\n",
        "\n",
        "    def set_radius(self, r):\n",
        "        self.r = r\n",
        "\n",
        "    def set_center(self, x, y, z):\n",
        "        self.x = x\n",
        "        self.y = y\n",
        "        self.z = z\n",
        "\n",
        "    def is_point_inside(self, x, y, z):\n",
        "        distance_squared = (x - self.x)**2 + (y - self.y)**2 + (z - self.z)**2\n",
        "        return distance_squared <= self.r**2"
      ],
      "metadata": {
        "id": "d-vd-AYRdBId"
      },
      "execution_count": null,
      "outputs": []
    },
    {
      "cell_type": "markdown",
      "source": [
        "## **Задание №2. Создайте класс SuperStr, который наследует стандартный класс str и содержит 2 новых метода:**"
      ],
      "metadata": {
        "id": "UuJ9K_zAcaY_"
      }
    },
    {
      "cell_type": "markdown",
      "source": [
        "1. Метод is_repeatance (s), который принимает 1 аргумент s и возвращает True или False в зависимости от того, может ли текущая строку быть получена целым количеством повторов строки s. Вернуть False, если s не является строкой. Считать, что пустая строка не содержит повторов.\n",
        "\n",
        "2. Метод is_palindrom (), который возвращает True или False в зависимости от того, является ли строка [палиндромом](https://ru.wikipedia.org/wiki/Палиндром). Регистрами символов пренебрегать. Пустую строку считать палиндромом."
      ],
      "metadata": {
        "id": "GX99X81VchPW"
      }
    },
    {
      "cell_type": "code",
      "source": [
        "class SuperStr(str):\n",
        "\n",
        "    def is_repeatance(self, s):\n",
        "        if not isinstance(s, str):\n",
        "            return False\n",
        "\n",
        "        if len(s) == 0:\n",
        "            return False\n",
        "\n",
        "        if len(self) == 0:\n",
        "            return False\n",
        "\n",
        "        if len(self) % len(s) != 0:\n",
        "            return False\n",
        "\n",
        "        repeat_count = len(self) // len(s)\n",
        "\n",
        "        return self == s * repeat_count\n",
        "\n",
        "    def is_palindrom(self):\n",
        "        lower_str = self.lower()\n",
        "        return lower_str == lower_str[::-1]"
      ],
      "metadata": {
        "id": "LtIAKDWFdEcr"
      },
      "execution_count": null,
      "outputs": []
    },
    {
      "cell_type": "code",
      "source": [
        "# Тесты\n",
        "\n",
        "s = SuperStr(\"123123123123\")\n",
        "print(s.is_repeatance(\"123\")) # True\n",
        "print(s.is_repeatance(\"123123\")) # True\n",
        "print(s.is_repeatance(\"123123123123\")) # True\n",
        "print(s.is_repeatance(\"12312\")) # False\n",
        "print(s.is_repeatance(123)) # False\n",
        "print(s.is_palindrom()) # False\n",
        "print(s) # 123123123123 (строка)\n",
        "print(int(s)) # 123123123123 (целое число)\n",
        "print(s + \"qwe\") # 123123123123qwe\n",
        "p = SuperStr(\"123_321\")\n",
        "print(p.is_palindrom()) # True"
      ],
      "metadata": {
        "id": "oRO3alwicoNp",
        "colab": {
          "base_uri": "https://localhost:8080/"
        },
        "outputId": "4c0a48a7-14d7-491f-dc57-13501b122eca"
      },
      "execution_count": null,
      "outputs": [
        {
          "output_type": "stream",
          "name": "stdout",
          "text": [
            "True\n",
            "True\n",
            "True\n",
            "False\n",
            "False\n",
            "False\n",
            "123123123123\n",
            "123123123123\n",
            "123123123123qwe\n",
            "True\n"
          ]
        }
      ]
    },
    {
      "cell_type": "markdown",
      "source": [
        "## **Задание №3. В коде ниже представлен класс преподавателей и класс студентов (вы можете взять этот код за основу или написать свой).**"
      ],
      "metadata": {
        "id": "m9EGwLY9jZbw"
      }
    },
    {
      "cell_type": "code",
      "source": [
        "class Student:\n",
        "    def __init__(self, name, surname, gender):\n",
        "        self.name = name\n",
        "        self.surname = surname\n",
        "        self.gender = gender\n",
        "        self.finished_courses = []\n",
        "        self.courses_in_progress = []\n",
        "        self.grades = {}\n",
        "\n",
        "    def add_courses(self, course_name):\n",
        "        self.finished_courses.append(course_name)\n",
        "\n",
        "\n",
        "class Mentor:\n",
        "    def __init__(self, name, surname):\n",
        "        self.name = name\n",
        "        self.surname = surname\n",
        "        self.courses_attached = []\n",
        "\n",
        "    def rate_hw(self, student, course, grade):\n",
        "        student.grades[course] = [grade]"
      ],
      "metadata": {
        "id": "PlqK9m7KrT6e"
      },
      "execution_count": null,
      "outputs": []
    },
    {
      "cell_type": "code",
      "source": [
        "best_student = Student('Ruoy', 'Eman', 'your_gender')\n",
        "cool_mentor = Mentor('Some', 'Buddy')\n",
        "cool_mentor.rate_hw(best_student, 'Python', 10)\n",
        "\n",
        "print(\"Имя студента: \", best_student.name)\n",
        "print(\"Имя преподавателя: \", cool_mentor.name)\n",
        "print(\"Оценки студента по курсам: \", best_student.grades)"
      ],
      "metadata": {
        "colab": {
          "base_uri": "https://localhost:8080/"
        },
        "id": "oNc1-dVaw3ee",
        "outputId": "7621e159-5ac4-48a7-8318-886013ba7692"
      },
      "execution_count": null,
      "outputs": [
        {
          "output_type": "stream",
          "name": "stdout",
          "text": [
            "Имя студента:  Ruoy\n",
            "Имя преподавателя:  Some\n",
            "Оценки студента по курсам:  {'Python': [10]}\n"
          ]
        }
      ]
    },
    {
      "cell_type": "markdown",
      "source": [
        "### **3.1. Наследование**"
      ],
      "metadata": {
        "id": "08FkYxULrxE-"
      }
    },
    {
      "cell_type": "markdown",
      "source": [
        "* Класс Mentor должен стать родительским классом для преподавателей. От него нужно реализовать наследование классов Lecturer (лекторы) и Reviewer (эксперты, проверяющие домашние задания).\n",
        "\n",
        "> Имя, фамилю и список закрепленных курсов логично реализовать на уровне родительского класса."
      ],
      "metadata": {
        "id": "YNjsCv5ItOii"
      }
    },
    {
      "cell_type": "code",
      "source": [
        "class Student:\n",
        "    def __init__(self, name, surname, gender):\n",
        "        self.name = name\n",
        "        self.surname = surname\n",
        "        self.gender = gender\n",
        "        self.finished_courses = []\n",
        "        self.courses_in_progress = []\n",
        "        self.grades = {}\n",
        "\n",
        "    def add_courses(self, course_name):\n",
        "        self.finished_courses.append(course_name)\n",
        "\n",
        "\n",
        "class Mentor:\n",
        "    def __init__(self, name, surname):\n",
        "        self.name = name\n",
        "        self.surname = surname\n",
        "        self.courses_attached = []\n",
        "\n",
        "class Lecturer(Mentor):\n",
        "  pass\n",
        "\n",
        "class Reviewer(Mentor):\n",
        "    def rate_hw(self, student, course, grade):\n",
        "      if isinstance(student, Student) and course in self.courses_attached and course in student.courses_in_progress:\n",
        "        if course in student.grades:\n",
        "          student.grades[course].append(grade)\n",
        "        else:\n",
        "          student.grades[course] = [grade]"
      ],
      "metadata": {
        "id": "1quZPRZKtIoc"
      },
      "execution_count": null,
      "outputs": []
    },
    {
      "cell_type": "markdown",
      "source": [
        "### **3.2. Атрибуты и взаимодействие классов**"
      ],
      "metadata": {
        "id": "oL8kB-uUtH5K"
      }
    },
    {
      "cell_type": "markdown",
      "source": [
        "* Реализуйте возможность проставления оценок студентам только Reviewer-ам (реализуйте такой метод).\n",
        "\n",
        "* Реализуйте метод выставления оценок лекторам у класса Student (оценки по 10-балльной шкале, хранятся в атрибуте-словаре у Lecturer, в котором ключи – названия курсов, а значения – списки оценок). Лектор при этом должен быть закреплен за тем курсом, на который записан студент (реализовать проверку)."
      ],
      "metadata": {
        "id": "ddcuJFCksWsY"
      }
    },
    {
      "cell_type": "code",
      "source": [
        "class Student:\n",
        "    def __init__(self, name, surname, gender):\n",
        "        self.name = name\n",
        "        self.surname = surname\n",
        "        self.gender = gender\n",
        "        self.finished_courses = []\n",
        "        self.courses_in_progress = []\n",
        "        self.grades = {}\n",
        "\n",
        "    def rate_lecture(self, lecturer, course, grade):\n",
        "      if isinstance(lecturer, Lecturer) and course in lecturer.courses_attached and course in self.courses_in_progress:\n",
        "        if course in lecturer.grades:\n",
        "            lecturer.grades[course].append(grade)\n",
        "        else:\n",
        "            lecturer.grades[course] = [grade]\n",
        "      else:\n",
        "        return 'Ошибка'\n",
        "\n",
        "    def add_courses(self, course_name):\n",
        "        self.finished_courses.append(course_name)\n",
        "\n",
        "\n",
        "class Mentor:\n",
        "    def __init__(self, name, surname):\n",
        "        self.name = name\n",
        "        self.surname = surname\n",
        "        self.courses_attached = []\n",
        "\n",
        "class Lecturer(Mentor):\n",
        "  def __init__(self, name, surname):\n",
        "    super().__init__(name, surname)\n",
        "    self.grades = {}\n",
        "\n",
        "class Reviewer(Mentor):\n",
        "    def rate_hw(self, student, course, grade):\n",
        "      if isinstance(student, Student) and course in self.courses_attached and course in student.courses_in_progress:\n",
        "        if course in student.grades:\n",
        "          student.grades[course].append(grade)\n",
        "        else:\n",
        "          student.grades[course] = [grade]"
      ],
      "metadata": {
        "id": "U30yyvuirv6H"
      },
      "execution_count": null,
      "outputs": []
    },
    {
      "cell_type": "markdown",
      "source": [
        "### **3.3. Полиморфизм и магические методы**"
      ],
      "metadata": {
        "id": "i6PrwEBSu39u"
      }
    },
    {
      "cell_type": "markdown",
      "source": [
        "Перегрузите магический метод \\_\\_str__ у всех классов.\n",
        "У проверяющих он должен выводить информацию в следующем виде:\n",
        "\n",
        "\n",
        "\n",
        "```\n",
        "print(some_reviewer)\n",
        "Имя: Some\n",
        "Фамилия: Buddy\n",
        "```\n",
        "\n",
        "У лекторов:\n",
        "\n",
        "\n",
        "\n",
        "```\n",
        "print(some_lecturer)\n",
        "Имя: Some\n",
        "Фамилия: Buddy\n",
        "Средняя оценка за лекции: 9.9\n",
        "```\n",
        "\n",
        "А у студентов так:\n",
        "\n",
        "\n",
        "\n",
        "```\n",
        "print(some_student)\n",
        "Имя: Ruoy\n",
        "Фамилия: Eman\n",
        "Средняя оценка за домашние задания: 9.9\n",
        "Курсы в процессе изучения: Python, Git\n",
        "Завершенные курсы: Введение в программирование\n",
        "```\n",
        "\n",
        "\n",
        "\n"
      ],
      "metadata": {
        "id": "GvmtjlnmvF8b"
      }
    },
    {
      "cell_type": "code",
      "source": [
        "class Student:\n",
        "    def __init__(self, name, surname, gender):\n",
        "        self.name = name\n",
        "        self.surname = surname\n",
        "        self.gender = gender\n",
        "        self.finished_courses = []\n",
        "        self.courses_in_progress = []\n",
        "        self.grades = {}\n",
        "\n",
        "    def rate_lecture(self, lecturer, course, grade):\n",
        "      if isinstance(lecturer, Lecturer) and course in lecturer.courses_attached and course in self.courses_in_progress:\n",
        "        if course in lecturer.grades:\n",
        "            lecturer.grades[course].append(grade)\n",
        "        else:\n",
        "            lecturer.grades[course] = [grade]\n",
        "      else:\n",
        "        return 'Ошибка'\n",
        "\n",
        "    def add_courses(self, course_name):\n",
        "        self.finished_courses.append(course_name)\n",
        "\n",
        "    def get_average_grade(self):\n",
        "      if not self.grades:\n",
        "        return 0\n",
        "      all_grades = []\n",
        "      for course_grades in self.grades.values():\n",
        "        all_grades.extend(course_grades)\n",
        "      return sum(all_grades) / len(all_grades)\n",
        "\n",
        "\n",
        "    def __str__(self):\n",
        "      avg_grade = self.get_average_grade()\n",
        "      courses_in_progress = ', '.join(self.courses_in_progress) if self.courses_in_progress else \"Нет курсов\"\n",
        "      finished_courses = ', '.join(self.finished_courses) if self.finished_courses else \"Нет курсов\"\n",
        "      return f'Имя: {self.name}\\nФамилия: {self.surname}\\nСредняя оценка за домашние задания: {avg_grade:.1f}\\nКурсы в процессе изучения: {courses_in_progress}\\nЗавершенные курсы: {finished_courses}'\n",
        "\n",
        "\n",
        "class Mentor:\n",
        "    def __init__(self, name, surname):\n",
        "        self.name = name\n",
        "        self.surname = surname\n",
        "        self.courses_attached = []\n",
        "\n",
        "class Lecturer(Mentor):\n",
        "  def __init__(self, name, surname):\n",
        "    super().__init__(name, surname)\n",
        "    self.grades = {}\n",
        "\n",
        "  def get_average_grade(self):\n",
        "    if not self.grades:\n",
        "      return 0\n",
        "    all_grades = []\n",
        "    for course_grades in self.grades.values():\n",
        "        all_grades.extend(course_grades)\n",
        "    return sum(all_grades) / len(all_grades)\n",
        "\n",
        "  def __str__(self):\n",
        "    avg_grade = self.get_average_grade()\n",
        "    return f'Имя: {self.name}\\nФамилия: {self.surname}\\nСредняя оценка за лекции: {avg_grade:.1f}'\n",
        "\n",
        "class Reviewer(Mentor):\n",
        "    def rate_hw(self, student, course, grade):\n",
        "      if isinstance(student, Student) and course in self.courses_attached and course in student.courses_in_progress:\n",
        "        if course in student.grades:\n",
        "          student.grades[course].append(grade)\n",
        "        else:\n",
        "          student.grades[course] = [grade]\n",
        "\n",
        "    def __str__(self):\n",
        "      return f\"Имя: {self.name}\\nФамилия: {self.surname}\""
      ],
      "metadata": {
        "id": "gCJAL_EmwU0b"
      },
      "execution_count": null,
      "outputs": []
    },
    {
      "cell_type": "code",
      "source": [
        "best_student = Student('Ruoy', 'Eman', 'male')\n",
        "cool_lecturer = Lecturer('Some', 'Buddy')\n",
        "cool_reviewer = Reviewer('Another', 'Person')\n",
        "\n",
        "cool_lecturer.courses_attached += ['Python', 'Git']\n",
        "cool_reviewer.courses_attached += ['Python']\n",
        "best_student.courses_in_progress += ['Python', 'Git']\n",
        "best_student.finished_courses += ['Введение в программирование']\n",
        "\n",
        "cool_reviewer.rate_hw(best_student, 'Python', 10)\n",
        "cool_reviewer.rate_hw(best_student, 'Python', 9)\n",
        "cool_reviewer.rate_hw(best_student, 'Python', 8)\n",
        "\n",
        "best_student.rate_lecture(cool_lecturer, 'Python', 10)\n",
        "best_student.rate_lecture(cool_lecturer, 'Python', 9)\n",
        "best_student.rate_lecture(cool_lecturer, 'Git', 8)\n",
        "\n",
        "print(cool_reviewer)\n",
        "print(\"\\n=\")\n",
        "print(cool_lecturer)\n",
        "print(\"\\n=\")\n",
        "print(best_student)\n",
        "\n",
        "print(\"\\n=\")\n",
        "print(\"Оценки студента:\", best_student.grades)\n",
        "print(\"Оценки лектора:\", cool_lecturer.grades)"
      ],
      "metadata": {
        "colab": {
          "base_uri": "https://localhost:8080/"
        },
        "id": "ShUdtxDthyja",
        "outputId": "3ed34712-27ca-4a98-efa1-97162663b498"
      },
      "execution_count": null,
      "outputs": [
        {
          "output_type": "stream",
          "name": "stdout",
          "text": [
            "Имя: Another\n",
            "Фамилия: Person\n",
            "\n",
            "=\n",
            "Имя: Some\n",
            "Фамилия: Buddy\n",
            "Средняя оценка за лекции: 9.0\n",
            "\n",
            "=\n",
            "Имя: Ruoy\n",
            "Фамилия: Eman\n",
            "Средняя оценка за домашние задания: 9.0\n",
            "Курсы в процессе изучения: Python, Git\n",
            "Завершенные курсы: Введение в программирование\n",
            "\n",
            "=\n",
            "Оценки студента: {'Python': [10, 9, 8]}\n",
            "Оценки лектора: {'Python': [10, 9], 'Git': [8]}\n"
          ]
        }
      ]
    },
    {
      "cell_type": "markdown",
      "source": [
        "**Реализуйте перегрузку других магических методов на Ваш выбор (не менее трёх), руководствуясь по смыслу контекстом представленных классов (студенты, преподаватели, оценки и т.д.)**"
      ],
      "metadata": {
        "id": "1DNE4TE3vfYI"
      }
    },
    {
      "cell_type": "code",
      "source": [
        "class Student:\n",
        "    def __init__(self, name, surname, gender):\n",
        "        self.name = name\n",
        "        self.surname = surname\n",
        "        self.gender = gender\n",
        "        self.finished_courses = []\n",
        "        self.courses_in_progress = []\n",
        "        self.grades = {}\n",
        "\n",
        "    def rate_lecture(self, lecturer, course, grade):\n",
        "      if isinstance(lecturer, Lecturer) and course in lecturer.courses_attached and course in self.courses_in_progress:\n",
        "        if course in lecturer.grades:\n",
        "            lecturer.grades[course].append(grade)\n",
        "        else:\n",
        "            lecturer.grades[course] = [grade]\n",
        "      else:\n",
        "        return 'Ошибка'\n",
        "\n",
        "    def add_courses(self, course_name):\n",
        "        self.finished_courses.append(course_name)\n",
        "\n",
        "    def get_average_grade(self):\n",
        "      if not self.grades:  # Если нет оценок\n",
        "        return 0\n",
        "      all_grades = []\n",
        "      for course_grades in self.grades.values():\n",
        "        all_grades.extend(course_grades)\n",
        "      return sum(all_grades) / len(all_grades)\n",
        "\n",
        "\n",
        "    def __str__(self):\n",
        "      avg_grade = self.get_average_grade()\n",
        "      courses_in_progress = ', '.join(self.courses_in_progress) if self.courses_in_progress else \"Нет курсов\"\n",
        "      finished_courses = ', '.join(self.finished_courses) if self.finished_courses else \"Нет курсов\"\n",
        "      return f'Имя: {self.name}\\nФамилия: {self.surname}\\nСредняя оценка за домашние задания: {avg_grade:.1f}\\nКурсы в процессе изучения: {courses_in_progress}\\nЗавершенные курсы: {finished_courses}'\n",
        "\n",
        "class Mentor:\n",
        "    def __init__(self, name, surname):\n",
        "        self.name = name\n",
        "        self.surname = surname\n",
        "        self.courses_attached = []\n",
        "\n",
        "class Lecturer(Mentor):\n",
        "  def __init__(self, name, surname):\n",
        "    super().__init__(name, surname)\n",
        "    self.grades = {}\n",
        "\n",
        "  def get_average_grade(self):\n",
        "    if not self.grades:\n",
        "      return 0\n",
        "    all_grades = []\n",
        "    for course_grades in self.grades.values():\n",
        "        all_grades.extend(course_grades)\n",
        "    return sum(all_grades) / len(all_grades)\n",
        "\n",
        "  def __str__(self):\n",
        "    avg_grade = self.get_average_grade()\n",
        "    return f'Имя: {self.name}\\nФамилия: {self.surname}\\nСредняя оценка за лекции: {avg_grade:.1f}'\n",
        "\n",
        "class Reviewer(Mentor):\n",
        "    def rate_hw(self, student, course, grade):\n",
        "      if isinstance(student, Student) and course in self.courses_attached and course in student.courses_in_progress:\n",
        "        if course in student.grades:\n",
        "          student.grades[course].append(grade)\n",
        "        else:\n",
        "          student.grades[course] = [grade]\n",
        "\n",
        "    def __str__(self):\n",
        "      return f\"Имя: {self.name}\\nФамилия: {self.surname}\""
      ],
      "metadata": {
        "id": "WNCf9PPMu4Gv"
      },
      "execution_count": null,
      "outputs": []
    },
    {
      "cell_type": "markdown",
      "source": [
        "### **3.4. Тестирование**\n",
        "\n",
        "Создайте по 2 экземпляра каждого класса, вызовите все созданные методы, а также реализуйте две функции:\n",
        "\n",
        "* для подсчета средней оценки за домашние задания по всем студентам в рамках конкретного курса (в качестве аргументов принимаем список студентов и название курса);\n",
        "* для подсчета средней оценки за лекции всех лекторов в рамках курса (в качестве аргумента принимаем список лекторов и название курса)."
      ],
      "metadata": {
        "id": "X8xvLNT6u4Nn"
      }
    },
    {
      "cell_type": "code",
      "source": [
        "def calculate_average_hw_grade(students, course_name):\n",
        "  all_grades = []\n",
        "  for student in students:\n",
        "      if course_name in student.grades:\n",
        "          all_grades.extend(student.grades[course_name])\n",
        "  if all_grades:\n",
        "      return sum(all_grades) / len(all_grades)\n",
        "  else:\n",
        "      return 0\n",
        "\n",
        "def calculate_average_lecture_grade(lecturers, course_name):\n",
        "  all_grades = []\n",
        "  for lecturer in lecturers:\n",
        "      if course_name in lecturer.grades:\n",
        "          all_grades.extend(lecturer.grades[course_name])\n",
        "  if all_grades:\n",
        "      return sum(all_grades) / len(all_grades)\n",
        "  else:\n",
        "      return 0"
      ],
      "metadata": {
        "id": "uh8n08fdu4V_"
      },
      "execution_count": null,
      "outputs": []
    },
    {
      "cell_type": "code",
      "source": [
        "#экземпляры\n",
        "student1 = Student('Иван', 'Иванов', 'Мужской')\n",
        "student2 = Student('Ирина', 'Петрова', 'Женский')\n",
        "\n",
        "lecturer1 = Lecturer('Алексей', 'Сидров')\n",
        "lecturer2 = Lecturer('Анна', 'Арбузова')\n",
        "\n",
        "reviewer1 = Reviewer('Николай', 'Захаренко')\n",
        "reviewer2 = Reviewer('Елена', 'Лесова')\n",
        "\n",
        "#настройка курсов\n",
        "student1.courses_in_progress += ['Python', 'Git']\n",
        "student2.courses_in_progress += ['Python', 'Java']\n",
        "student1.finished_courses += ['Введение в программирование']\n",
        "\n",
        "lecturer1.courses_attached += ['Python', 'Git']\n",
        "lecturer2.courses_attached += ['Python', 'Java']\n",
        "\n",
        "reviewer1.courses_attached += ['Python']\n",
        "reviewer2.courses_attached += ['Git', 'Java']\n",
        "\n",
        "print(\"\\n ТЕСТИРОВАНИЕ RATE_HW \")\n",
        "#ревьюеры ставят оценки студентам\n",
        "reviewer1.rate_hw(student1, 'Python', 9)\n",
        "reviewer1.rate_hw(student1, 'Python', 10)\n",
        "reviewer1.rate_hw(student2, 'Python', 8)\n",
        "reviewer1.rate_hw(student2, 'Python', 7)\n",
        "\n",
        "reviewer2.rate_hw(student1, 'Git', 9)\n",
        "reviewer2.rate_hw(student2, 'Java', 8)\n",
        "\n",
        "print(\"Оценки student1:\", student1.grades)\n",
        "print(\"Оценки student2:\", student2.grades)\n",
        "\n",
        "print(\"\\n ТЕСТИРОВАНИЕ RATE_LECTURE \")\n",
        "#cтуденты ставят оценки лекторам\n",
        "student1.rate_lecture(lecturer1, 'Python', 10)\n",
        "student1.rate_lecture(lecturer1, 'Python', 9)\n",
        "student1.rate_lecture(lecturer1, 'Git', 8)\n",
        "\n",
        "student2.rate_lecture(lecturer1, 'Python', 9)\n",
        "student2.rate_lecture(lecturer2, 'Python', 10)\n",
        "student2.rate_lecture(lecturer2, 'Java', 8)\n",
        "\n",
        "print(\"Оценки lecturer1:\", lecturer1.grades)\n",
        "print(\"Оценки lecturer2:\", lecturer2.grades)\n",
        "\n",
        "print(\"\\n ТЕСТИРОВАНИЕ GET_AVERAGE_GRADE \")\n",
        "print(\"Средняя студента 1:\", student1.get_average_grade())\n",
        "print(\"Средняя студента 2:\", student2.get_average_grade())\n",
        "print(\"Средняя лектора 1:\", lecturer1.get_average_grade())\n",
        "print(\"Средняя лектора 2:\", lecturer2.get_average_grade())\n",
        "\n",
        "print(\"\\n ТЕСТИРОВАНИЕ МАГИЧЕСКИХ МЕТОДОВ \")\n",
        "print(\"student1 == student2:\", student1 == student2)\n",
        "print(\"student1 < student2:\", student1 < student2)\n",
        "print(\"student1 > student2:\", student1 > student2)\n",
        "print(\"Курсов у student1:\", len(student1))\n",
        "print(\"Курсов у student2:\", len(student2))\n",
        "print(\"'Python' у student1:\", 'Python' in student1)\n",
        "print(\"'Java' у student1:\", 'Java' in student1)\n",
        "\n",
        "print(\"\\n ТЕСТИРОВАНИЕ __STR__ \")\n",
        "print(\"СТУДЕНТ 1:\")\n",
        "print(student1)\n",
        "print(\"\\nСТУДЕНТ 2:\")\n",
        "print(student2)\n",
        "print(\"\\nЛЕКТОР 1:\")\n",
        "print(lecturer1)\n",
        "print(\"\\nЛЕКТОР 2:\")\n",
        "print(lecturer2)\n",
        "print(\"\\nРЕВЬЮЕР 1:\")\n",
        "print(reviewer1)\n",
        "print(\"\\nРЕВЬЮЕР 2:\")\n",
        "print(reviewer2)\n",
        "\n",
        "print(\"\\n ТЕСТИРОВАНИЕ ФУНКЦИЙ \")\n",
        "students_list = [student1, student2]\n",
        "lecturers_list = [lecturer1, lecturer2]\n",
        "\n",
        "print(\"Средняя за ДЗ по Python:\", calculate_average_hw_grade(students_list, 'Python'))\n",
        "print(\"Средняя за ДЗ по Git:\", calculate_average_hw_grade(students_list, 'Git'))\n",
        "print(\"Средняя за лекции по Python:\", calculate_average_lecture_grade(lecturers_list, 'Python'))\n",
        "print(\"Средняя за лекции по Java:\", calculate_average_lecture_grade(lecturers_list, 'Java'))"
      ],
      "metadata": {
        "id": "r2deQDi60MdR",
        "outputId": "49ebab4b-1c74-40be-e931-6cfc1fa16ee4",
        "colab": {
          "base_uri": "https://localhost:8080/"
        }
      },
      "execution_count": null,
      "outputs": [
        {
          "output_type": "stream",
          "name": "stdout",
          "text": [
            "\n",
            " ТЕСТИРОВАНИЕ RATE_HW \n",
            "Оценки student1: {'Python': [9, 10], 'Git': [9]}\n",
            "Оценки student2: {'Python': [8, 7], 'Java': [8]}\n",
            "\n",
            " ТЕСТИРОВАНИЕ RATE_LECTURE \n",
            "Оценки lecturer1: {'Python': [10, 9, 9], 'Git': [8]}\n",
            "Оценки lecturer2: {'Python': [10], 'Java': [8]}\n",
            "\n",
            " ТЕСТИРОВАНИЕ GET_AVERAGE_GRADE \n",
            "Средняя студента 1: 9.333333333333334\n",
            "Средняя студента 2: 7.666666666666667\n",
            "Средняя лектора 1: 9.0\n",
            "Средняя лектора 2: 9.0\n",
            "\n",
            " ТЕСТИРОВАНИЕ МАГИЧЕСКИХ МЕТОДОВ \n",
            "student1 == student2: False\n",
            "student1 < student2: False\n",
            "student1 > student2: True\n",
            "Курсов у student1: 2\n",
            "Курсов у student2: 2\n",
            "'Python' у student1: True\n",
            "'Java' у student1: False\n",
            "\n",
            " ТЕСТИРОВАНИЕ __STR__ \n",
            "СТУДЕНТ 1:\n",
            "Имя: Иван\n",
            "Фамилия: Иванов\n",
            "Средняя оценка за домашние задания: 9.3\n",
            "Курсы в процессе изучения: Python, Git\n",
            "Завершенные курсы: Введение в программирование\n",
            "\n",
            "СТУДЕНТ 2:\n",
            "Имя: Ирина\n",
            "Фамилия: Петрова\n",
            "Средняя оценка за домашние задания: 7.7\n",
            "Курсы в процессе изучения: Python, Java\n",
            "Завершенные курсы: Нет курсов\n",
            "\n",
            "ЛЕКТОР 1:\n",
            "Имя: Алексей\n",
            "Фамилия: Сидров\n",
            "Средняя оценка за лекции: 9.0\n",
            "\n",
            "ЛЕКТОР 2:\n",
            "Имя: Анна\n",
            "Фамилия: Арбузова\n",
            "Средняя оценка за лекции: 9.0\n",
            "\n",
            "РЕВЬЮЕР 1:\n",
            "Имя: Николай\n",
            "Фамилия: Захаренко\n",
            "\n",
            "РЕВЬЮЕР 2:\n",
            "Имя: Елена\n",
            "Фамилия: Лесова\n",
            "\n",
            " ТЕСТИРОВАНИЕ ФУНКЦИЙ \n",
            "Средняя за ДЗ по Python: 8.5\n",
            "Средняя за ДЗ по Git: 9.0\n",
            "Средняя за лекции по Python: 9.5\n",
            "Средняя за лекции по Java: 8.0\n"
          ]
        }
      ]
    },
    {
      "cell_type": "markdown",
      "source": [
        "## **Задание №4. Перегрузка операторов с помощью магических методов**\n"
      ],
      "metadata": {
        "id": "ehfo80anwJUM"
      }
    },
    {
      "cell_type": "markdown",
      "source": [
        "### **Цель задания:**\n",
        "\n"
      ],
      "metadata": {
        "id": "i_KsKg4awZOJ"
      }
    },
    {
      "cell_type": "markdown",
      "source": [
        "Разработать класс `Fraction` для работы с рациональными числами (дробями), реализовав перегрузку стандартных операторов через переопределение соответствующих магических методов. Ваша задача — обеспечить класс `Fraction` функциональностью, демонстрируемой в приведенном примере кода."
      ],
      "metadata": {
        "id": "JvIIB641watq"
      }
    },
    {
      "cell_type": "markdown",
      "source": [
        "### **Описание задания:**\n",
        "\n"
      ],
      "metadata": {
        "id": "BZ9kMLrYwcW_"
      }
    },
    {
      "cell_type": "markdown",
      "source": [
        "Создайте класс `Fraction`, который представляет собой обыкновенную дробь с числителем и знаменателем. Перегрузите основные арифметические операторы для выполнения операций над дробями, а также операторы сравнения. Обеспечьте возможность преобразования дроби в число с плавающей точкой и обратную операцию. Реализуйте обработку исключений при некорректных данных. Предоставьте понятное строковое и официальное представление дроби."
      ],
      "metadata": {
        "id": "6Qt56A-Bwe87"
      }
    },
    {
      "cell_type": "markdown",
      "source": [
        "**Требования к заданию:**\n"
      ],
      "metadata": {
        "id": "1lv3NnB_whqP"
      }
    },
    {
      "cell_type": "markdown",
      "source": [
        "\n",
        "1. **Класс `Fraction` должен:**\n",
        "\n",
        "   - Инициализироваться двумя целыми числами: числителем и знаменателем.\n",
        "   - Обрабатывать ситуацию когда знаменатель равен нулю, а именно выводить сообщение `\"Знаменатель не может быть нулем\"`.\n",
        "   - Упрощать дроби до несократимых при создании и после каждой арифметической операции.\n",
        "\n",
        "2. **Перегрузить следующие операторы путем переопределения магических методов:**\n",
        "\n",
        "   - **Сложение `+`** (`__add__`): сложение двух дробей, возвращает новую дробь.\n",
        "   - **Вычитание `-`** (`__sub__`): вычитание одной дроби из другой, возвращает новую дробь.\n",
        "   - **Умножение `*`** (`__mul__`): умножение двух дробей, возвращает новую дробь.\n",
        "   - **Деление `/`** (`__truediv__`): деление одной дроби на другую, возвращает новую дробь.\n",
        "   - **Равенство `==`** (`__eq__`): проверка равенства двух дробей.\n",
        "   - **Сравнения `>`, `<`, `>=`, `<=`**: сравнение дробей по их значению, реализовать методы `__lt__`, `__le__`, `__gt__`, `__ge__`.\n",
        "\n",
        "3. **Реализовать преобразование типов:**\n",
        "\n",
        "   - **Метод `__float__`**: преобразование дроби в число с плавающей точкой.\n",
        "\n",
        "4. **Дополнительные методы класса:**\n",
        "\n",
        "   - **`reciprocal()`**: возвращает новую дробь, обратную данной (числитель и знаменатель меняются местами).\n",
        "   - **Строковое представление** (`__str__`): возвращает строку вида `\"числитель/знаменатель\"`. Если знаменатель равен 1, возвращает только числитель в виде строки.\n",
        "   - **Официальное представление** (`__repr__`): возвращает строку вида `\"Fraction(числитель, знаменатель)\"`.\n",
        "\n",
        "5. **Обработка исключений:**\n",
        "\n",
        "   - При попытке создать дробь с нулевым знаменателем выводить в консоль сообщение `ValueError`.\n",
        "   - При попытке деления на нулевую дробь, выводить в консоль сообщение `ZeroDivisionError`.\n",
        "\n",
        "6. **Тестирование:**\n",
        "\n",
        "   - Написать код, демонстрирующий работу всех реализованных методов и операторов, используя примеры, приведенные ниже.\n",
        "   - Обеспечить корректную обработку исключений и вывод соответствующих сообщений.\n",
        "\n",
        "\n",
        "\n"
      ],
      "metadata": {
        "id": "4tJX8suPv0TY"
      }
    },
    {
      "cell_type": "code",
      "source": [
        "class Fraction:\n",
        "  def __init__(self, numerator, denominator):\n",
        "    if denominator == 0:\n",
        "      raise ValueError(\"Ошибка: Знаменатель не может быть нулем!\")\n",
        "\n",
        "    if denominator < 0:\n",
        "      numerator = -numerator\n",
        "      denominator = -denominator\n",
        "\n",
        "    self.numerator = numerator\n",
        "    self.denominator = denominator\n",
        "\n",
        "    self._simplify()\n",
        "\n",
        "  def _simplify(self):\n",
        "    gcd = self._gcd(abs(self.numerator), abs(self.denominator))\n",
        "    self.numerator //= gcd\n",
        "    self.denominator //= gcd\n",
        "\n",
        "  def _gcd(self, a, b):\n",
        "    while b:\n",
        "      a, b = b, a % b\n",
        "    return a\n",
        "\n",
        "  def __add__(self, other):\n",
        "    if isinstance(other, Fraction):\n",
        "      if self.denominator == other.denominator:\n",
        "        new_numerator = self.numerator + other.numerator\n",
        "        new_denominator = self.denominator\n",
        "        return Fraction(new_numerator, new_denominator)\n",
        "      else:\n",
        "        new_numerator = self.numerator * other.denominator + other.numerator * self.denominator\n",
        "        new_denominator = self.denominator * other.denominator\n",
        "        return Fraction(new_numerator, new_denominator)\n",
        "    else:\n",
        "        return NotImplemented\n",
        "\n",
        "  def __sub__(self, other):\n",
        "    if isinstance(other, Fraction):\n",
        "      new_numerator = self.numerator * other.denominator - other.numerator * self.denominator\n",
        "      new_denominator = self.denominator * other.denominator\n",
        "      return Fraction(new_numerator, new_denominator)\n",
        "    else:\n",
        "        return NotImplemented\n",
        "\n",
        "  def __mul__(self, other):\n",
        "    if isinstance(other, Fraction):\n",
        "      new_numerator = self.numerator * other.numerator\n",
        "      new_denominator = self.denominator * other.denominator\n",
        "      return Fraction(new_numerator, new_denominator)\n",
        "    else:\n",
        "      return NotImplemented\n",
        "\n",
        "  def __truediv__(self, other):\n",
        "    if isinstance(other, Fraction):\n",
        "      if other.numerator == 0:\n",
        "        raise ValueError(\"Ошибка: Числитель не может быть нулем!\")\n",
        "      new_numerator = self.numerator * other.denominator\n",
        "      new_denominator = self.denominator * other.numerator\n",
        "      return Fraction(new_numerator, new_denominator)\n",
        "    else:\n",
        "      return NotImplemented\n",
        "\n",
        "  def __eq__(self, other):\n",
        "    if isinstance(other, Fraction):\n",
        "      return self.numerator * other.denominator == other.numerator * self.denominator\n",
        "    return NotImplemented\n",
        "\n",
        "  def __lt__(self, other):\n",
        "    if isinstance(other, Fraction):\n",
        "      return self.numerator * other.denominator < other.numerator * self.denominator\n",
        "    return NotImplemented\n",
        "\n",
        "  def __gt__(self, other):\n",
        "    if isinstance(other, Fraction):\n",
        "      return self.numerator * other.denominator > other.numerator * self.denominator\n",
        "    return NotImplemented\n",
        "\n",
        "  def __float__(self):\n",
        "    return self.numerator / self.denominator\n",
        "\n",
        "  def reciprocal(self):\n",
        "    if self.numerator == 0:\n",
        "      raise ValueError(\"Ошибка: Числитель не может быть нулем!\")\n",
        "    return Fraction(self.denominator, self.numerator)\n",
        "\n",
        "  def __str__(self):\n",
        "    if self.denominator == 1:\n",
        "      return str(self.numerator)\n",
        "    else:\n",
        "      return f'{self.numerator}/{self.denominator}'\n",
        "\n",
        "  def __repr__(self):\n",
        "    return f'Fraction({self.numerator},{self.denominator})'\n",
        "\n",
        "  @classmethod\n",
        "  def from_float(cls, float_num):\n",
        "    denominator = 100000\n",
        "    numerator = int(float_num * denominator)\n",
        "    return cls(numerator, denominator)"
      ],
      "metadata": {
        "id": "58JlCtFkxpmU"
      },
      "execution_count": null,
      "outputs": []
    },
    {
      "cell_type": "markdown",
      "source": [
        "**Тесты для класса `Fraction`:**\n"
      ],
      "metadata": {
        "id": "N5tZxFvIxdIy"
      }
    },
    {
      "cell_type": "code",
      "source": [
        "# Создание дробей\n",
        "f1 = Fraction(3, 4)\n",
        "f2 = Fraction(5, 6)\n",
        "\n",
        "# Сложение дробей\n",
        "f3 = f1 + f2\n",
        "print(f3)  # Ожидаемый вывод: 19/12\n",
        "\n",
        "# Вычитание дробей\n",
        "f4 = f1 - f2\n",
        "print(f4)  # Ожидаемый вывод: -1/12\n",
        "\n",
        "# Умножение дробей\n",
        "f5 = f1 * f2\n",
        "print(f5)  # Ожидаемый вывод: 5/8\n",
        "\n",
        "# Деление дробей\n",
        "f6 = f1 / f2\n",
        "print(f6)  # Ожидаемый вывод: 9/10\n",
        "\n",
        "# Проверка равенства\n",
        "print(f1 == Fraction(6, 8))   # Ожидаемый вывод: True\n",
        "\n",
        "# Сравнение дробей\n",
        "print(f1 > f2)    # Ожидаемый вывод: False\n",
        "print(f1 < f2)    # Ожидаемый вывод: True\n",
        "\n",
        "# Преобразование к float\n",
        "print(float(f1))  # Ожидаемый вывод: 0.75\n",
        "\n",
        "# Обратная дробь\n",
        "f7 = f1.reciprocal()\n",
        "print(f7)         # Ожидаемый вывод: 4/3\n",
        "\n",
        "# Создание дроби из float\n",
        "f8 = Fraction.from_float(0.75)\n",
        "print(f8)         # Ожидаемый вывод: 3/4\n",
        "\n",
        "# Проверка обработки исключений\n",
        "try:\n",
        "    f_invalid = Fraction(5, 0)\n",
        "except ValueError as e:\n",
        "    print(e)  # Ожидаемый вывод: Знаменатель не может быть нулем\n",
        "\n",
        "# Строковое и официальное представление\n",
        "print(str(f1))    # Ожидаемый вывод: 3/4\n",
        "print(repr(f1))   # Ожидаемый вывод: Fraction(3, 4)"
      ],
      "metadata": {
        "id": "U1UtgDM0xlqJ",
        "outputId": "bfef7f38-5f84-4e89-d790-f0f8c89009f6",
        "colab": {
          "base_uri": "https://localhost:8080/"
        }
      },
      "execution_count": null,
      "outputs": [
        {
          "output_type": "stream",
          "name": "stdout",
          "text": [
            "19/12\n",
            "-1/12\n",
            "5/8\n",
            "9/10\n",
            "True\n",
            "False\n",
            "True\n",
            "0.75\n",
            "4/3\n",
            "3/4\n",
            "Ошибка: Знаменатель не может быть нулем!\n",
            "3/4\n",
            "Fraction(3,4)\n"
          ]
        }
      ]
    }
  ]
}
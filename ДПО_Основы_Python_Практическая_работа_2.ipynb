{
  "nbformat": 4,
  "nbformat_minor": 0,
  "metadata": {
    "colab": {
      "provenance": [],
      "include_colab_link": true
    },
    "kernelspec": {
      "name": "python3",
      "display_name": "Python 3"
    },
    "language_info": {
      "name": "python"
    }
  },
  "cells": [
    {
      "cell_type": "markdown",
      "metadata": {
        "id": "view-in-github",
        "colab_type": "text"
      },
      "source": [
        "<a href=\"https://colab.research.google.com/github/vadim13213/University/blob/main/%D0%94%D0%9F%D0%9E_%D0%9E%D1%81%D0%BD%D0%BE%D0%B2%D1%8B_Python_%D0%9F%D1%80%D0%B0%D0%BA%D1%82%D0%B8%D1%87%D0%B5%D1%81%D0%BA%D0%B0%D1%8F_%D1%80%D0%B0%D0%B1%D0%BE%D1%82%D0%B0_2.ipynb\" target=\"_parent\"><img src=\"https://colab.research.google.com/assets/colab-badge.svg\" alt=\"Open In Colab\"/></a>"
      ]
    },
    {
      "cell_type": "markdown",
      "source": [
        "# **Практическая работа №2. Введение в Python. Циклы в Python: for и while. Функции в Python. Обработка исключений в Python (try, except, else, finally)**\n",
        "\n",
        "---\n",
        "\n",
        "\n"
      ],
      "metadata": {
        "id": "QliphIp1pbse"
      }
    },
    {
      "cell_type": "markdown",
      "source": [
        "**Обучающийся:** *[Захаренко Вадим Олегович]*  "
      ],
      "metadata": {
        "id": "tTK8mNGDqA8Z"
      }
    },
    {
      "cell_type": "markdown",
      "source": [
        "\n",
        "\n",
        "---"
      ],
      "metadata": {
        "id": "wTJjWD61p_dZ"
      }
    },
    {
      "cell_type": "markdown",
      "source": [
        "## **Блок заданий №1. Циклы в Python: for и while**\n",
        "\n"
      ],
      "metadata": {
        "id": "-iXZOjjEoLsS"
      }
    },
    {
      "cell_type": "markdown",
      "source": [
        "### 1. **Сумма чисел от 1 до N**  \n",
        "   Напишите программу, которая запрашивает у пользователя число `N` и с помощью цикла `for` вычисляет сумму всех чисел от 1 до `N`."
      ],
      "metadata": {
        "id": "1Vy5lAnxoTrL"
      }
    },
    {
      "cell_type": "code",
      "source": [
        "print(f\"Сумма: {sum(range(1, int(input('Введите N: ')) + 1))}\")"
      ],
      "metadata": {
        "id": "GNtKZwXSoSNg",
        "outputId": "af822bb0-6039-4807-a137-ee60ee2cfadc",
        "colab": {
          "base_uri": "https://localhost:8080/"
        }
      },
      "execution_count": 1,
      "outputs": [
        {
          "output_type": "stream",
          "name": "stdout",
          "text": [
            "Введите N: 5\n",
            "Сумма: 15\n"
          ]
        }
      ]
    },
    {
      "cell_type": "markdown",
      "source": [
        "\n",
        "### 2. **Вывод четных чисел**  \n",
        "   Используя цикл `while`, напишите программу, которая выводит все четные числа от 1 до 100."
      ],
      "metadata": {
        "id": "JgNf_8IToNQH"
      }
    },
    {
      "cell_type": "code",
      "source": [
        "n = 1\n",
        "while n <= 100:\n",
        "  if n%2 == 0:\n",
        "    print(n)\n",
        "  n+=1"
      ],
      "metadata": {
        "id": "0Mgimf-9oWjm",
        "outputId": "75f2c10a-8c44-42fb-897d-491c680e3ec8",
        "colab": {
          "base_uri": "https://localhost:8080/"
        }
      },
      "execution_count": 5,
      "outputs": [
        {
          "output_type": "stream",
          "name": "stdout",
          "text": [
            "2\n",
            "4\n",
            "6\n",
            "8\n",
            "10\n",
            "12\n",
            "14\n",
            "16\n",
            "18\n",
            "20\n",
            "22\n",
            "24\n",
            "26\n",
            "28\n",
            "30\n",
            "32\n",
            "34\n",
            "36\n",
            "38\n",
            "40\n",
            "42\n",
            "44\n",
            "46\n",
            "48\n",
            "50\n",
            "52\n",
            "54\n",
            "56\n",
            "58\n",
            "60\n",
            "62\n",
            "64\n",
            "66\n",
            "68\n",
            "70\n",
            "72\n",
            "74\n",
            "76\n",
            "78\n",
            "80\n",
            "82\n",
            "84\n",
            "86\n",
            "88\n",
            "90\n",
            "92\n",
            "94\n",
            "96\n",
            "98\n",
            "100\n"
          ]
        }
      ]
    },
    {
      "cell_type": "markdown",
      "source": [
        "### 3. **Таблица умножения**  \n",
        "   Напишите программу, которая с помощью вложенного цикла `for` выводит таблицу умножения (от 1 до 10)."
      ],
      "metadata": {
        "id": "WvLRnMt8oOpv"
      }
    },
    {
      "cell_type": "markdown",
      "source": [
        "**Пример выходных данных**\n",
        "```\n",
        "   1   2   3   4   5   6   7   8   9  10\n",
        "   2   4   6   8  10  12  14  16  18  20\n",
        "   3   6   9  12  15  18  21  24  27  30\n",
        "   4   8  12  16  20  24  28  32  36  40\n",
        "   5  10  15  20  25  30  35  40  45  50\n",
        "   6  12  18  24  30  36  42  48  54  60\n",
        "   7  14  21  28  35  42  49  56  63  70\n",
        "   8  16  24  32  40  48  56  64  72  80\n",
        "   9  18  27  36  45  54  63  72  81  90\n",
        "  10  20  30  40  50  60  70  80  90 100\n",
        "```\n"
      ],
      "metadata": {
        "id": "lMCzrvNAuiPt"
      }
    },
    {
      "cell_type": "code",
      "source": [
        "for i in range(1, 11):\n",
        "    for j in range(1, 11):\n",
        "        print(f\"{i*j:3d}\", end=\" \")\n",
        "    print()"
      ],
      "metadata": {
        "id": "9bTYZUCqoW9l",
        "outputId": "44829e8e-9a7a-4140-998c-83185cf50978",
        "colab": {
          "base_uri": "https://localhost:8080/"
        }
      },
      "execution_count": 7,
      "outputs": [
        {
          "output_type": "stream",
          "name": "stdout",
          "text": [
            "  1   2   3   4   5   6   7   8   9  10 \n",
            "  2   4   6   8  10  12  14  16  18  20 \n",
            "  3   6   9  12  15  18  21  24  27  30 \n",
            "  4   8  12  16  20  24  28  32  36  40 \n",
            "  5  10  15  20  25  30  35  40  45  50 \n",
            "  6  12  18  24  30  36  42  48  54  60 \n",
            "  7  14  21  28  35  42  49  56  63  70 \n",
            "  8  16  24  32  40  48  56  64  72  80 \n",
            "  9  18  27  36  45  54  63  72  81  90 \n",
            " 10  20  30  40  50  60  70  80  90 100 \n"
          ]
        }
      ]
    },
    {
      "cell_type": "markdown",
      "source": [
        "### 4. **Обратный отсчет**  \n",
        "   Напишите программу, которая с помощью цикла `while` выводит обратный отсчет от 10 до 1, а затем выводит сообщение \"Старт!\"."
      ],
      "metadata": {
        "id": "alRU4K6moPoX"
      }
    },
    {
      "cell_type": "code",
      "source": [
        "n = 10\n",
        "while n > 0:\n",
        "  print(n)\n",
        "  n-=1\n",
        "print(\"Старт\")"
      ],
      "metadata": {
        "id": "xlwpaJbkoXja",
        "outputId": "b6629106-1e1f-44db-f515-599bdf083bdb",
        "colab": {
          "base_uri": "https://localhost:8080/"
        }
      },
      "execution_count": 10,
      "outputs": [
        {
          "output_type": "stream",
          "name": "stdout",
          "text": [
            "10\n",
            "9\n",
            "8\n",
            "7\n",
            "6\n",
            "5\n",
            "4\n",
            "3\n",
            "2\n",
            "1\n",
            "Старт\n"
          ]
        }
      ]
    },
    {
      "cell_type": "markdown",
      "source": [
        "\n",
        "\n",
        "### 5. **Поиск максимального числа**  \n",
        "   Напишите программу, которая запрашивает у пользователя 5 чисел и с помощью цикла `for` находит и выводит максимальное из них."
      ],
      "metadata": {
        "id": "ZOrByPyjoQrK"
      }
    },
    {
      "cell_type": "code",
      "source": [
        "maxx = None\n",
        "for i in range(5):\n",
        "  n = int(input(\"Введите число: \"))\n",
        "  if maxx is None or n > maxx:\n",
        "    maxx = n\n",
        "print(f\"Максимально число : {maxx}\")"
      ],
      "metadata": {
        "id": "nPiZGu03oX6V",
        "outputId": "cd51c5c1-74e0-40b4-b3ec-e237de7f31f8",
        "colab": {
          "base_uri": "https://localhost:8080/"
        }
      },
      "execution_count": 36,
      "outputs": [
        {
          "output_type": "stream",
          "name": "stdout",
          "text": [
            "Введите число: 1\n",
            "Введите число: 2\n",
            "Введите число: 3\n",
            "Введите число: 4\n",
            "Введите число: 5\n",
            "Максимально число : 5\n"
          ]
        }
      ]
    },
    {
      "cell_type": "markdown",
      "source": [
        "## **Блок заданий №2. Функции в Python**\n"
      ],
      "metadata": {
        "id": "n3_ntES4op47"
      }
    },
    {
      "cell_type": "markdown",
      "source": [
        "При написании функций используйте аннотацию типов, а также добавляйте строку документации."
      ],
      "metadata": {
        "id": "e8JyxIPov56d"
      }
    },
    {
      "cell_type": "markdown",
      "source": [
        "### 1. **Функция для вычисления факториала**  \n",
        "   Напишите функцию `factorial(n)`, которая принимает число `n` и возвращает его факториал. Проверьте работу функции на нескольких примерах.\n",
        "\n",
        "\n",
        "\n",
        "\n",
        "\n",
        "\n",
        "\n"
      ],
      "metadata": {
        "id": "0hZbwgVmocJb"
      }
    },
    {
      "cell_type": "code",
      "source": [
        "def factorial(n):\n",
        "  result = 1\n",
        "  for i in range(1, n + 1):\n",
        "    result *=i\n",
        "  return result\n",
        "\n",
        "factorial(5)"
      ],
      "metadata": {
        "id": "-HdkvvY9owo8",
        "outputId": "2c849b3d-acca-4b2d-ac11-ac6b58ba0fc0",
        "colab": {
          "base_uri": "https://localhost:8080/"
        }
      },
      "execution_count": 23,
      "outputs": [
        {
          "output_type": "execute_result",
          "data": {
            "text/plain": [
              "120"
            ]
          },
          "metadata": {},
          "execution_count": 23
        }
      ]
    },
    {
      "cell_type": "markdown",
      "source": [
        "### 2. **Функция для проверки четности**  \n",
        "   Напишите функцию `is_even(n)`, которая принимает число `n` и возвращает `True`, если число четное, и `False` в противном случае."
      ],
      "metadata": {
        "id": "xEQgEhEKovb6"
      }
    },
    {
      "cell_type": "code",
      "source": [
        "def is_even(n):\n",
        "    return n%2==0\n",
        "\n",
        "is_even(4)"
      ],
      "metadata": {
        "id": "Qbgw2_QLow--",
        "outputId": "18627613-203c-40c2-fcc3-ed8213af9b7d",
        "colab": {
          "base_uri": "https://localhost:8080/"
        }
      },
      "execution_count": 25,
      "outputs": [
        {
          "output_type": "execute_result",
          "data": {
            "text/plain": [
              "True"
            ]
          },
          "metadata": {},
          "execution_count": 25
        }
      ]
    },
    {
      "cell_type": "markdown",
      "source": [
        "### 3. **Функция с именованными аргументами**  \n",
        "   Напишите функцию `person_info(name, age, city=\"Москва\")`, которая принимает имя, возраст и город (по умолчанию \"Москва\"). Функция должна возвращать строку с информацией о человеке.  \n",
        "   \n",
        "   Пример:  \n",
        "```\n",
        "person_info(\"Иван\", 25) → \"Иван, 25 лет, из города Москва\"\n",
        "person_info(\"Мария\", 30, \"Санкт-Петербург\") → \"Мария, 30 лет, из города Санкт-Петербург\"\n",
        "```"
      ],
      "metadata": {
        "id": "-PWnY3LcouSk"
      }
    },
    {
      "cell_type": "code",
      "source": [
        "def person_info(name, age, city=\"Москва\"):\n",
        "  return f'{name}, {age} лет, из города {city}'\n",
        "\n",
        "person_info(\"Вадим\", 25)"
      ],
      "metadata": {
        "id": "8x-s4u8voxUR",
        "outputId": "0f2436ed-1a45-4c3e-b9cd-60ff07a51f49",
        "colab": {
          "base_uri": "https://localhost:8080/",
          "height": 36
        }
      },
      "execution_count": 27,
      "outputs": [
        {
          "output_type": "execute_result",
          "data": {
            "text/plain": [
              "'Вадим, 25 лет, из города Москва'"
            ],
            "application/vnd.google.colaboratory.intrinsic+json": {
              "type": "string"
            }
          },
          "metadata": {},
          "execution_count": 27
        }
      ]
    },
    {
      "cell_type": "markdown",
      "source": [
        "### 4. **Фильтрация четных чисел**  \n",
        "   Напишите функцию `filter_even(*args)`, которая принимает произвольное количество чисел и возвращает список только из четных чисел.  \n",
        "   Пример:  \n",
        "   ```\n",
        "   filter_even(1, 2, 3, 4, 5, 6) → [2, 4, 6]\n",
        "   filter_even(7, 9, 11) → []\n",
        "   ```"
      ],
      "metadata": {
        "id": "DxtROjY3osrS"
      }
    },
    {
      "cell_type": "code",
      "source": [
        "def filter_even(*args):\n",
        "    return [num for num in args if num % 2 == 0]\n",
        "\n",
        "filter_even(1,2,3,4)"
      ],
      "metadata": {
        "id": "CMROKo1Iox9C",
        "outputId": "c9855354-3fd2-496a-db3a-6aa8af3c2ee2",
        "colab": {
          "base_uri": "https://localhost:8080/"
        }
      },
      "execution_count": 28,
      "outputs": [
        {
          "output_type": "execute_result",
          "data": {
            "text/plain": [
              "[2, 4]"
            ]
          },
          "metadata": {},
          "execution_count": 28
        }
      ]
    },
    {
      "cell_type": "markdown",
      "source": [
        "### 5. **Функция для вычисления статистики**  \n",
        "   Напишите функцию `calculate_stats(*args, **kwargs)`, которая:  \n",
        "   - Из позиционных аргументов вычисляет минимальное, максимальное и среднее значение.  \n",
        "   - Из именованных аргументов возвращает словарь, где ключи — это аргументы, а значения — их типы данных.  \n",
        "   Пример:  \n",
        "   ```\n",
        "   calculate_stats(1, 2, 3, 4, name=\"Иван\", age=25) → ((1, 4, 2.5), {\"name\": \"str\", \"age\": \"int\"})\n",
        "   ```"
      ],
      "metadata": {
        "id": "TPLTxuASorpB"
      }
    },
    {
      "cell_type": "code",
      "source": [
        "def calculate_stats(*args, **kwargs):\n",
        "    if args:\n",
        "        min_val = min(args)\n",
        "        max_val = max(args)\n",
        "        avg_val = sum(args) / len(args)\n",
        "        stats = (min_val, max_val, avg_val)\n",
        "    else:\n",
        "        stats = (None, None, None)\n",
        "\n",
        "    types_dict = {}\n",
        "    for key, value in kwargs.items():\n",
        "        types_dict[key] = type(value).__name__\n",
        "\n",
        "    return (stats, types_dict)\n",
        "\n",
        "\n",
        "\n",
        "calculate_stats(1, 2, 3, 4, name=\"Иван\", age=25)"
      ],
      "metadata": {
        "id": "F-1JYEoMoykp",
        "outputId": "502ac19d-319e-4adf-a170-846622def670",
        "colab": {
          "base_uri": "https://localhost:8080/"
        }
      },
      "execution_count": 1,
      "outputs": [
        {
          "output_type": "execute_result",
          "data": {
            "text/plain": [
              "((1, 4, 2.5), {'name': 'str', 'age': 'int'})"
            ]
          },
          "metadata": {},
          "execution_count": 1
        }
      ]
    },
    {
      "cell_type": "markdown",
      "source": [
        "## **Блок заданий №3. Работа с текстовыми файлами в Python**\n"
      ],
      "metadata": {
        "id": "ZwSzb-PToe-5"
      }
    },
    {
      "cell_type": "markdown",
      "source": [
        "### 1. **Запись в файл**  \n",
        "   Напишите программу, которая запрашивает у пользователя строку и записывает её в файл `output.txt`."
      ],
      "metadata": {
        "id": "NO_aT90DpDwS"
      }
    },
    {
      "cell_type": "code",
      "source": [
        "user_input = input(\"Введите строку для записи в файл: \")\n",
        "\n",
        "with open('output.txt', 'w', encoding='utf-8') as file:\n",
        "    file.write(user_input)\n",
        "\n",
        "print(\"Строка успешно записана в файл output.txt\")"
      ],
      "metadata": {
        "id": "CNGiLXnkpUfa",
        "outputId": "f594f724-8fd3-45dd-8730-3a0d75131972",
        "colab": {
          "base_uri": "https://localhost:8080/"
        }
      },
      "execution_count": 6,
      "outputs": [
        {
          "output_type": "stream",
          "name": "stdout",
          "text": [
            "Введите строку для записи в файл: арбуз\n",
            "Строка успешно записана в файл output.txt\n"
          ]
        }
      ]
    },
    {
      "cell_type": "markdown",
      "source": [
        "### 2. **Чтение из файла**  \n",
        "   Напишите программу, которая открывает файл `output.txt` и выводит его содержимое на экран."
      ],
      "metadata": {
        "id": "fy_uuck5pE8B"
      }
    },
    {
      "cell_type": "code",
      "source": [
        "with open('output.txt', 'r', encoding='utf-8') as file:\n",
        "    print(file.read())"
      ],
      "metadata": {
        "id": "-9eB_a1rpUuA",
        "outputId": "f98bf0e8-e520-4d99-eaae-40dfab75eae6",
        "colab": {
          "base_uri": "https://localhost:8080/"
        }
      },
      "execution_count": 7,
      "outputs": [
        {
          "output_type": "stream",
          "name": "stdout",
          "text": [
            "арбуз\n"
          ]
        }
      ]
    },
    {
      "cell_type": "markdown",
      "source": [
        "### 3. **Подсчет строк в файле**  \n",
        "   Напишите программу, которая открывает файл `output.txt` и подсчитывает количество строк в нём."
      ],
      "metadata": {
        "id": "yaF0YWwYpF7a"
      }
    },
    {
      "cell_type": "code",
      "source": [
        "with open('output.txt', 'r', encoding='utf-8') as file:\n",
        "  line_count = len(file.readlines())\n",
        "  print(f\"Количество строк в файле: {line_count}\")"
      ],
      "metadata": {
        "id": "lZsdbitnpU8y",
        "outputId": "c6a047a3-7e93-4b6e-b716-c7e1b17b25d1",
        "colab": {
          "base_uri": "https://localhost:8080/"
        }
      },
      "execution_count": 8,
      "outputs": [
        {
          "output_type": "stream",
          "name": "stdout",
          "text": [
            "Количество строк в файле: 1\n"
          ]
        }
      ]
    },
    {
      "cell_type": "markdown",
      "source": [
        "### 4. **Копирование содержимого файла**  \n",
        "   Напишите программу, которая копирует содержимое файла `input.txt` в файл `output.txt`."
      ],
      "metadata": {
        "id": "Ps4aMC32pG3q"
      }
    },
    {
      "cell_type": "code",
      "source": [
        "with open('input.txt', 'r', encoding='utf-8') as source_file:\n",
        "    with open('output.txt', 'w', encoding='utf-8') as target_file:\n",
        "        for line in source_file:\n",
        "            target_file.write(line)\n",
        "\n",
        "print(\"Файл input.txt успешно скопирован в output.txt\")"
      ],
      "metadata": {
        "id": "x2LuA9ZwpVPz",
        "outputId": "c8015acf-73d1-4477-f091-f343889f1c28",
        "colab": {
          "base_uri": "https://localhost:8080/"
        }
      },
      "execution_count": 10,
      "outputs": [
        {
          "output_type": "stream",
          "name": "stdout",
          "text": [
            "Файл input.txt успешно скопирован в output.txt\n"
          ]
        }
      ]
    },
    {
      "cell_type": "markdown",
      "source": [
        "### 5. **Поиск слова в файле**  \n",
        "   Напишите программу, которая открывает файл `output.txt` и проверяет, содержится ли в нём слово, введённое пользователем."
      ],
      "metadata": {
        "id": "lWGe5Xj4oIn-"
      }
    },
    {
      "cell_type": "code",
      "source": [
        "search = input(\"Cлово для поиска: \")\n",
        "\n",
        "with open('output.txt', 'r', encoding='utf-8') as file:\n",
        "    content = file.read()\n",
        "\n",
        "    if search in content:\n",
        "        print(f\"Слово '{search}' найдено в файле!\")\n",
        "    else:\n",
        "        print(f\"Слово '{search}' не найдено в файле.\")"
      ],
      "metadata": {
        "id": "dqPsCHK2pVha",
        "outputId": "c298a2e5-3138-49b3-e608-aae9ebe21a34",
        "colab": {
          "base_uri": "https://localhost:8080/"
        }
      },
      "execution_count": 11,
      "outputs": [
        {
          "output_type": "stream",
          "name": "stdout",
          "text": [
            "Cлово для поиска: арбуз\n",
            "Слово 'арбуз' не найдено в файле.\n"
          ]
        }
      ]
    },
    {
      "cell_type": "markdown",
      "source": [
        "## **Блок заданий №4. Обработка исключений в Python (try, except, else, finally)**\n"
      ],
      "metadata": {
        "id": "1kJHV5F1o2W-"
      }
    },
    {
      "cell_type": "markdown",
      "source": [
        "### 1. **Чтение файла с обработкой FileNotFoundError**  \n",
        "   Напишите программу, которая запрашивает у пользователя имя (или путь к) файла и пытается открыть его. Если файла не существует, перехватите FileNotFoundError и выведите сообщение «Файл не найден!».\n",
        "\n",
        "\n",
        "\n",
        "\n",
        "\n",
        "\n",
        "\n"
      ],
      "metadata": {
        "id": "EpLMWWsYog9c"
      }
    },
    {
      "cell_type": "code",
      "source": [
        "filename = input(\"Введите имя файла или путь к файлу: \")\n",
        "\n",
        "try:\n",
        "    with open(filename, 'r', encoding='utf-8') as file:\n",
        "        content = file.read()\n",
        "        print(\"Файл успешно открыт!\")\n",
        "        print(\"Содержимое файла:\")\n",
        "        print(content)\n",
        "\n",
        "except FileNotFoundError:\n",
        "    print(\"Файл не найден!\")"
      ],
      "metadata": {
        "id": "pdSXLhuAo9wL",
        "outputId": "2c37d95a-26ff-489c-aa8c-c4ccb78b1caf",
        "colab": {
          "base_uri": "https://localhost:8080/"
        }
      },
      "execution_count": 12,
      "outputs": [
        {
          "output_type": "stream",
          "name": "stdout",
          "text": [
            "Введите имя файла или путь к файлу: уырво\n",
            "Файл не найден!\n"
          ]
        }
      ]
    },
    {
      "cell_type": "markdown",
      "source": [
        "### 2. **Простейший калькулятор с обработкой нескольких исключений**  \n",
        "   Напишите программу, которая спрашивает у пользователя два числа и операцию (+, -, *, /). При попытках сложения или вычитания некорректных значений перехватывайте ValueError, а при делении на ноль — ZeroDivisionError, выводя соответствующие сообщения.\n"
      ],
      "metadata": {
        "id": "_1KEOBCho7wv"
      }
    },
    {
      "cell_type": "code",
      "source": [
        "try:\n",
        "    num1 = float(input(\"Введите первое число: \"))\n",
        "    num2 = float(input(\"Введите второе число: \"))\n",
        "    operation = input(\"Введите операцию (+, -, *, /): \")\n",
        "\n",
        "    if operation == '+':\n",
        "        result = num1 + num2\n",
        "    elif operation == '-':\n",
        "        result = num1 - num2\n",
        "    elif operation == '*':\n",
        "        result = num1 * num2\n",
        "    elif operation == '/':\n",
        "        result = num1 / num2\n",
        "    else:\n",
        "        print(\"Ошибка: Неизвестная операция!\")\n",
        "        exit()\n",
        "\n",
        "    print(f\"Результат: {num1} {operation} {num2} = {result}\")\n",
        "\n",
        "except ValueError:\n",
        "    print(\"Ошибка: Введите корректные числа!\")\n",
        "except ZeroDivisionError:\n",
        "    print(\"Ошибка: Деление на ноль невозможно!\")"
      ],
      "metadata": {
        "id": "WPcrPlXWo-bz",
        "outputId": "9df5a571-fd0e-4141-a203-19917180e132",
        "colab": {
          "base_uri": "https://localhost:8080/"
        }
      },
      "execution_count": 1,
      "outputs": [
        {
          "output_type": "stream",
          "name": "stdout",
          "text": [
            "Введите первое число: 5\n",
            "Введите второе число: 6\n",
            "Введите операцию (+, -, *, /): +\n",
            "Результат: 5.0 + 6.0 = 11.0\n"
          ]
        }
      ]
    },
    {
      "cell_type": "markdown",
      "source": [
        "### 3. **Обработка некорректного индекса (IndexError)**  \n",
        "   Создайте список из нескольких элементов (например, [10, 20, 30]). Попросите пользователя ввести индекс элемента, который нужно вывести. Если пользователь введёт индекс, выходящий за границы списка, перехватите IndexError и сообщите об этом в консоли в свободной форме."
      ],
      "metadata": {
        "id": "I-0e0lcio6tK"
      }
    },
    {
      "cell_type": "code",
      "source": [
        "my_list = [10, 20, 30, 40, 50]\n",
        "print(f\"Список: {my_list}\")\n",
        "print(f\"Длина списка: {len(my_list)} элементов\")\n",
        "\n",
        "try:\n",
        "    index = int(input(\"Введите индекс элемента для вывода: \"))\n",
        "\n",
        "    element = my_list[index]\n",
        "    print(f\"Элемент с индексом {index}: {element}\")\n",
        "\n",
        "except IndexError:\n",
        "    print(f\"Ошибка: Индекс {index} выходит за границы списка!\")\n",
        "    print(f\"Допустимые индексы: от 0 до {len(my_list) - 1}\")\n",
        "except ValueError:\n",
        "    print(\"Ошибка: Введите целое число!\")"
      ],
      "metadata": {
        "id": "8XSXyscqo-2U",
        "outputId": "29f02ee5-72b3-4bf9-b623-aeeb785ff8ef",
        "colab": {
          "base_uri": "https://localhost:8080/"
        }
      },
      "execution_count": 2,
      "outputs": [
        {
          "output_type": "stream",
          "name": "stdout",
          "text": [
            "Список: [10, 20, 30, 40, 50]\n",
            "Длина списка: 5 элементов\n",
            "Введите индекс элемента для вывода: 7\n",
            "Ошибка: Индекс 7 выходит за границы списка!\n",
            "Допустимые индексы: от 0 до 4\n"
          ]
        }
      ]
    },
    {
      "cell_type": "markdown",
      "source": [
        "### 4. **Чтение и запись в файл с обработкой ошибок**  \n",
        "  Напишите программу, которая:  \n",
        "  - Запрашивает у пользователя имя файла.  \n",
        "  - Если файл существует, программа читает его содержимое и выводит на экран.  \n",
        "  - Если файл не существует, программа создает его и записывает в него строку `\"Файл был создан\"`.  \n",
        "  Используйте обработку исключений.\n",
        "\n",
        "  Пример:  \n",
        "    ```\n",
        "    Введите имя файла: data.txt  \n",
        "    Файл не найден. Создан новый файл.\n",
        "    ```"
      ],
      "metadata": {
        "id": "OeQvEFV9o5My"
      }
    },
    {
      "cell_type": "code",
      "source": [
        "filename = input(\"Введите имя файла: \")\n",
        "\n",
        "try:\n",
        "    with open(filename, 'r', encoding='utf-8') as file:\n",
        "        content = file.read()\n",
        "        print(\"Содержимое файла:\")\n",
        "        print(\"─\" * 40)\n",
        "        print(content)\n",
        "        print(\"─\" * 40)\n",
        "\n",
        "except FileNotFoundError:\n",
        "    with open(filename, 'w', encoding='utf-8') as file:\n",
        "        file.write(\"Файл был создан\")\n",
        "    print(f\"Файл '{filename}' не найден. Создан новый файл.\")"
      ],
      "metadata": {
        "id": "ttNZVIbQo_LV",
        "outputId": "26a24563-4b0a-47ce-a07c-0994b88ea9a7",
        "colab": {
          "base_uri": "https://localhost:8080/"
        }
      },
      "execution_count": 3,
      "outputs": [
        {
          "output_type": "stream",
          "name": "stdout",
          "text": [
            "Введите имя файла: рвывчап\n",
            "Файл 'рвывчап' не найден. Создан новый файл.\n"
          ]
        }
      ]
    },
    {
      "cell_type": "markdown",
      "source": [
        "\n",
        "### 5. **Обработка исключений в цикле**  \n",
        "  Напишите программу, которая запрашивает у пользователя числа и добавляет их в список.  \n",
        "  - Если пользователь вводит некорректные данные, программа должна выводить сообщение об ошибке и продолжать работу.  \n",
        "  - Для выхода из программы пользователь должен ввести `\"стоп\"`.\n",
        "\n",
        "  Пример:  \n",
        "    ```\n",
        "    Введите число: 10  \n",
        "    Введите число: текст  \n",
        "    Ошибка: это не число.  \n",
        "    Введите число: стоп  \n",
        "    Итоговый список: [10]\n",
        "    ```"
      ],
      "metadata": {
        "id": "-XGCqB2zo4G_"
      }
    },
    {
      "cell_type": "code",
      "source": [
        "numbers = []\n",
        "\n",
        "print(\"Вводите числа. Для завершения введите 'стоп'\")\n",
        "\n",
        "while True:\n",
        "    user_input = input(\"Введите число: \")\n",
        "\n",
        "    if user_input.lower() == 'стоп':\n",
        "        break\n",
        "\n",
        "    try:\n",
        "        number = float(user_input)\n",
        "        numbers.append(number)\n",
        "        print(f\"Число {number} добавлено в список\")\n",
        "\n",
        "    except ValueError:\n",
        "        print(\"Ошибка: это не число. Попробуйте еще раз.\")\n",
        "\n",
        "print(f\"\\nИтоговый список: {numbers}\")"
      ],
      "metadata": {
        "id": "93pustD1o_hy",
        "outputId": "a65f171a-c2b4-47f7-a565-8594ab33ac19",
        "colab": {
          "base_uri": "https://localhost:8080/"
        }
      },
      "execution_count": 4,
      "outputs": [
        {
          "output_type": "stream",
          "name": "stdout",
          "text": [
            "Вводите числа. Для завершения введите 'стоп'\n",
            "Введите число: енанп\n",
            "Ошибка: это не число. Попробуйте еще раз.\n",
            "Введите число: ришг\n",
            "Ошибка: это не число. Попробуйте еще раз.\n",
            "Введите число: 5\n",
            "Число 5.0 добавлено в список\n",
            "Введите число: 4\n",
            "Число 4.0 добавлено в список\n",
            "Введите число: стоп\n",
            "\n",
            "Итоговый список: [5.0, 4.0]\n"
          ]
        }
      ]
    }
  ]
}